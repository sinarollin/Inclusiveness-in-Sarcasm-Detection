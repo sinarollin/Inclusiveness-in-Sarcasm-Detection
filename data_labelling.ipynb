{
 "cells": [
  {
   "cell_type": "code",
   "execution_count": 1,
   "id": "cc1af963-a617-4650-9179-722b955728fe",
   "metadata": {
    "execution": {
     "iopub.execute_input": "2024-04-17T08:57:34.928493Z",
     "iopub.status.busy": "2024-04-17T08:57:34.927455Z",
     "iopub.status.idle": "2024-04-17T08:57:35.521792Z",
     "shell.execute_reply": "2024-04-17T08:57:35.520562Z",
     "shell.execute_reply.started": "2024-04-17T08:57:34.928411Z"
    },
    "tags": []
   },
   "outputs": [],
   "source": [
    "import pandas as pd"
   ]
  },
  {
   "cell_type": "code",
   "execution_count": 2,
   "id": "c53b5ac2-d590-4dfe-b575-f0f24dcc2ce9",
   "metadata": {
    "execution": {
     "iopub.execute_input": "2024-04-17T08:57:42.043824Z",
     "iopub.status.busy": "2024-04-17T08:57:42.043181Z",
     "iopub.status.idle": "2024-04-17T08:57:42.331210Z",
     "shell.execute_reply": "2024-04-17T08:57:42.329299Z",
     "shell.execute_reply.started": "2024-04-17T08:57:42.043778Z"
    },
    "tags": []
   },
   "outputs": [],
   "source": [
    "# Importing the sarcasm data textual representation\n",
    "\n",
    "file_path = \"sarcasm_data.json\"\n",
    "\n",
    "# Loading JSON file into a DataFrame\n",
    "\n",
    "df_text = pd.read_json(file_path)\n",
    "df_text = df_text.transpose()"
   ]
  },
  {
   "cell_type": "code",
   "execution_count": 3,
   "id": "2d5e3a8b-db47-41fc-96c8-f36f7749c2ba",
   "metadata": {
    "execution": {
     "iopub.execute_input": "2024-04-17T08:57:46.987425Z",
     "iopub.status.busy": "2024-04-17T08:57:46.986201Z",
     "iopub.status.idle": "2024-04-17T08:57:47.116667Z",
     "shell.execute_reply": "2024-04-17T08:57:47.114394Z",
     "shell.execute_reply.started": "2024-04-17T08:57:46.987343Z"
    },
    "tags": []
   },
   "outputs": [
    {
     "data": {
      "text/html": [
       "<div>\n",
       "<style scoped>\n",
       "    .dataframe tbody tr th:only-of-type {\n",
       "        vertical-align: middle;\n",
       "    }\n",
       "\n",
       "    .dataframe tbody tr th {\n",
       "        vertical-align: top;\n",
       "    }\n",
       "\n",
       "    .dataframe thead th {\n",
       "        text-align: right;\n",
       "    }\n",
       "</style>\n",
       "<table border=\"1\" class=\"dataframe\">\n",
       "  <thead>\n",
       "    <tr style=\"text-align: right;\">\n",
       "      <th></th>\n",
       "      <th>utterance</th>\n",
       "      <th>speaker</th>\n",
       "      <th>context</th>\n",
       "      <th>context_speakers</th>\n",
       "      <th>show</th>\n",
       "      <th>sarcasm</th>\n",
       "    </tr>\n",
       "  </thead>\n",
       "  <tbody>\n",
       "    <tr>\n",
       "      <th>160</th>\n",
       "      <td>It's just a privilege to watch your mind at work.</td>\n",
       "      <td>SHELDON</td>\n",
       "      <td>[I never would have identified the fingerprint...</td>\n",
       "      <td>[LEONARD, SHELDON]</td>\n",
       "      <td>BBT</td>\n",
       "      <td>True</td>\n",
       "    </tr>\n",
       "    <tr>\n",
       "      <th>170</th>\n",
       "      <td>I don't think I'll be able to stop thinking ab...</td>\n",
       "      <td>PENNY</td>\n",
       "      <td>[This is one of my favorite places to kick bac...</td>\n",
       "      <td>[HOWARD, PENNY, HOWARD, HOWARD, HOWARD, PENNY,...</td>\n",
       "      <td>BBT</td>\n",
       "      <td>True</td>\n",
       "    </tr>\n",
       "    <tr>\n",
       "      <th>180</th>\n",
       "      <td>Since it's not bee season, you can have my epi...</td>\n",
       "      <td>SHELDON</td>\n",
       "      <td>[Here we go. Pad thai, no peanuts., But does i...</td>\n",
       "      <td>[LEONARD, HOWARD, LEONARD]</td>\n",
       "      <td>BBT</td>\n",
       "      <td>False</td>\n",
       "    </tr>\n",
       "    <tr>\n",
       "      <th>190</th>\n",
       "      <td>Lois Lane is falling, accelerating at an initi...</td>\n",
       "      <td>SHELDON</td>\n",
       "      <td>[A marathon? How many Superman movies are ther...</td>\n",
       "      <td>[PENNY, SHELDON, PENNY, SHELDON, SHELDON, PENN...</td>\n",
       "      <td>BBT</td>\n",
       "      <td>False</td>\n",
       "    </tr>\n",
       "    <tr>\n",
       "      <th>1105</th>\n",
       "      <td>I'm just inferring this is a couch because the...</td>\n",
       "      <td>SHELDON</td>\n",
       "      <td>[Great Caesar's ghost, look at this place., So...</td>\n",
       "      <td>[SHELDON, LEONARD, SHELDON, SHELDON, SHELDON, ...</td>\n",
       "      <td>BBT</td>\n",
       "      <td>True</td>\n",
       "    </tr>\n",
       "  </tbody>\n",
       "</table>\n",
       "</div>"
      ],
      "text/plain": [
       "                                              utterance  speaker  \\\n",
       "160   It's just a privilege to watch your mind at work.  SHELDON   \n",
       "170   I don't think I'll be able to stop thinking ab...    PENNY   \n",
       "180   Since it's not bee season, you can have my epi...  SHELDON   \n",
       "190   Lois Lane is falling, accelerating at an initi...  SHELDON   \n",
       "1105  I'm just inferring this is a couch because the...  SHELDON   \n",
       "\n",
       "                                                context  \\\n",
       "160   [I never would have identified the fingerprint...   \n",
       "170   [This is one of my favorite places to kick bac...   \n",
       "180   [Here we go. Pad thai, no peanuts., But does i...   \n",
       "190   [A marathon? How many Superman movies are ther...   \n",
       "1105  [Great Caesar's ghost, look at this place., So...   \n",
       "\n",
       "                                       context_speakers show sarcasm  \n",
       "160                                  [LEONARD, SHELDON]  BBT    True  \n",
       "170   [HOWARD, PENNY, HOWARD, HOWARD, HOWARD, PENNY,...  BBT    True  \n",
       "180                          [LEONARD, HOWARD, LEONARD]  BBT   False  \n",
       "190   [PENNY, SHELDON, PENNY, SHELDON, SHELDON, PENN...  BBT   False  \n",
       "1105  [SHELDON, LEONARD, SHELDON, SHELDON, SHELDON, ...  BBT    True  "
      ]
     },
     "execution_count": 3,
     "metadata": {},
     "output_type": "execute_result"
    }
   ],
   "source": [
    "df_text.head()"
   ]
  },
  {
   "cell_type": "code",
   "execution_count": 4,
   "id": "0efa3c46-e28d-4eb3-8a31-a28299452bf8",
   "metadata": {
    "execution": {
     "iopub.execute_input": "2024-04-17T08:57:51.504765Z",
     "iopub.status.busy": "2024-04-17T08:57:51.504407Z",
     "iopub.status.idle": "2024-04-17T08:57:51.513183Z",
     "shell.execute_reply": "2024-04-17T08:57:51.512196Z",
     "shell.execute_reply.started": "2024-04-17T08:57:51.504736Z"
    },
    "tags": []
   },
   "outputs": [
    {
     "data": {
      "text/plain": [
       "(690, 6)"
      ]
     },
     "execution_count": 4,
     "metadata": {},
     "output_type": "execute_result"
    }
   ],
   "source": [
    "df_text.shape"
   ]
  },
  {
   "cell_type": "code",
   "execution_count": 5,
   "id": "6a2c58f9-39e9-4529-82b3-535523e8524e",
   "metadata": {
    "execution": {
     "iopub.execute_input": "2024-04-17T08:58:37.042681Z",
     "iopub.status.busy": "2024-04-17T08:58:37.040763Z",
     "iopub.status.idle": "2024-04-17T08:58:37.057721Z",
     "shell.execute_reply": "2024-04-17T08:58:37.055440Z",
     "shell.execute_reply.started": "2024-04-17T08:58:37.042593Z"
    },
    "tags": []
   },
   "outputs": [
    {
     "data": {
      "text/plain": [
       "array(['SHELDON', 'PENNY', 'HOWARD', 'LEONARD', 'RAJ', 'PERSON',\n",
       "       'BERNADETTE', 'AMY', 'PERSON3', 'PERSON1', 'CHANDLER', 'ROSS',\n",
       "       'MONICA', 'JOEY', 'RACHEL', 'PHOEBE', 'DOROTHY', 'ROSE',\n",
       "       'MEMBER-GIRL', 'MODERATOR', 'MEMBER-BOY'], dtype=object)"
      ]
     },
     "execution_count": 5,
     "metadata": {},
     "output_type": "execute_result"
    }
   ],
   "source": [
    "df_text['speaker'].unique()"
   ]
  },
  {
   "cell_type": "code",
   "execution_count": 6,
   "id": "bd2ba2da-0108-4c1f-ac91-3c7cea027266",
   "metadata": {
    "execution": {
     "iopub.execute_input": "2024-04-17T08:58:44.454670Z",
     "iopub.status.busy": "2024-04-17T08:58:44.453858Z",
     "iopub.status.idle": "2024-04-17T08:58:44.473867Z",
     "shell.execute_reply": "2024-04-17T08:58:44.471720Z",
     "shell.execute_reply.started": "2024-04-17T08:58:44.454602Z"
    },
    "tags": []
   },
   "outputs": [
    {
     "data": {
      "text/plain": [
       "160      SHELDON\n",
       "170        PENNY\n",
       "180      SHELDON\n",
       "190      SHELDON\n",
       "1105     SHELDON\n",
       "          ...   \n",
       "2169    CHANDLER\n",
       "2235    CHANDLER\n",
       "234     CHANDLER\n",
       "2608    CHANDLER\n",
       "2524    CHANDLER\n",
       "Name: speaker, Length: 690, dtype: object"
      ]
     },
     "execution_count": 6,
     "metadata": {},
     "output_type": "execute_result"
    }
   ],
   "source": [
    "df_text['speaker']"
   ]
  },
  {
   "cell_type": "markdown",
   "id": "a27b2a86-108d-4aa1-8206-e3b969dac812",
   "metadata": {},
   "source": [
    "***Comment:***\n",
    "As for our project it is essential for us to be able to label the different extracts by gender, we will remove all entries spoken by an ambiguous gender (such as 'Person1' or 'Moderator'). We remarked that this will remove 57 utternaces, which we deem acceptable for the size of our dataset.  "
   ]
  },
  {
   "cell_type": "code",
   "execution_count": 7,
   "id": "f60ee3e2-d144-4011-a289-c49233cf9e66",
   "metadata": {
    "execution": {
     "iopub.execute_input": "2024-04-17T09:04:17.360711Z",
     "iopub.status.busy": "2024-04-17T09:04:17.359329Z",
     "iopub.status.idle": "2024-04-17T09:04:17.386973Z",
     "shell.execute_reply": "2024-04-17T09:04:17.385221Z",
     "shell.execute_reply.started": "2024-04-17T09:04:17.360573Z"
    },
    "tags": []
   },
   "outputs": [
    {
     "data": {
      "text/plain": [
       "(633, 6)"
      ]
     },
     "execution_count": 7,
     "metadata": {},
     "output_type": "execute_result"
    }
   ],
   "source": [
    "df_filtered = df_text[df_text['speaker'] != 'PERSON']\n",
    "df_filtered = df_filtered[df_filtered['speaker'] != 'PERSON1']\n",
    "df_filtered = df_filtered[df_filtered['speaker'] != 'PERSON3']\n",
    "df_filtered = df_filtered[df_filtered['speaker'] != 'MODERATOR']\n",
    "df_filtered.shape"
   ]
  },
  {
   "cell_type": "code",
   "execution_count": 8,
   "id": "31162013-903e-4a50-b751-5dd3b08b4d43",
   "metadata": {
    "execution": {
     "iopub.execute_input": "2024-04-17T09:13:10.280068Z",
     "iopub.status.busy": "2024-04-17T09:13:10.279080Z",
     "iopub.status.idle": "2024-04-17T09:13:10.302736Z",
     "shell.execute_reply": "2024-04-17T09:13:10.298878Z",
     "shell.execute_reply.started": "2024-04-17T09:13:10.279991Z"
    },
    "tags": []
   },
   "outputs": [],
   "source": [
    "# Creating a dictionnary to label the different speakers according to their gender\n",
    "\n",
    "gender_mapping = {\n",
    "    'SHELDON': 'M',\n",
    "    'PENNY': 'F',\n",
    "    'HOWARD': 'M',\n",
    "    'LEONARD': 'M',\n",
    "    'RAJ': 'M',\n",
    "    'BERNADETTE': 'F',\n",
    "    'AMY': 'F',\n",
    "    'CHANDLER': 'M',\n",
    "    'ROSS': 'M',\n",
    "    'MONICA': 'F',\n",
    "    'JOEY': 'M',\n",
    "    'RACHEL': 'F',\n",
    "    'PHOEBE': 'F',\n",
    "    'DOROTHY': 'F',\n",
    "    'ROSE': 'F',\n",
    "    'MEMBER-GIRL': 'F',\n",
    "    'MEMBER-BOY': 'M',\n",
    "}\n",
    "\n",
    "# Defining a function to be able to map the speakers to their corresponding gender\n",
    "\n",
    "def map_gender(speaker):\n",
    "    return gender_mapping.get(speaker, 'Unknown')\n",
    "\n",
    "# Adding a new column 'gender' based on the column 'speaker'\n",
    "df_filtered['gender'] = df_filtered['speaker'].apply(map_gender)\n"
   ]
  },
  {
   "cell_type": "code",
   "execution_count": 9,
   "id": "0d4194ea-16c7-4d18-8410-6170ced11208",
   "metadata": {
    "execution": {
     "iopub.execute_input": "2024-04-17T09:13:12.980812Z",
     "iopub.status.busy": "2024-04-17T09:13:12.979977Z",
     "iopub.status.idle": "2024-04-17T09:13:13.009714Z",
     "shell.execute_reply": "2024-04-17T09:13:13.007943Z",
     "shell.execute_reply.started": "2024-04-17T09:13:12.980744Z"
    },
    "tags": []
   },
   "outputs": [
    {
     "data": {
      "text/html": [
       "<div>\n",
       "<style scoped>\n",
       "    .dataframe tbody tr th:only-of-type {\n",
       "        vertical-align: middle;\n",
       "    }\n",
       "\n",
       "    .dataframe tbody tr th {\n",
       "        vertical-align: top;\n",
       "    }\n",
       "\n",
       "    .dataframe thead th {\n",
       "        text-align: right;\n",
       "    }\n",
       "</style>\n",
       "<table border=\"1\" class=\"dataframe\">\n",
       "  <thead>\n",
       "    <tr style=\"text-align: right;\">\n",
       "      <th></th>\n",
       "      <th>utterance</th>\n",
       "      <th>speaker</th>\n",
       "      <th>context</th>\n",
       "      <th>context_speakers</th>\n",
       "      <th>show</th>\n",
       "      <th>sarcasm</th>\n",
       "      <th>gender</th>\n",
       "    </tr>\n",
       "  </thead>\n",
       "  <tbody>\n",
       "    <tr>\n",
       "      <th>160</th>\n",
       "      <td>It's just a privilege to watch your mind at work.</td>\n",
       "      <td>SHELDON</td>\n",
       "      <td>[I never would have identified the fingerprint...</td>\n",
       "      <td>[LEONARD, SHELDON]</td>\n",
       "      <td>BBT</td>\n",
       "      <td>True</td>\n",
       "      <td>M</td>\n",
       "    </tr>\n",
       "    <tr>\n",
       "      <th>170</th>\n",
       "      <td>I don't think I'll be able to stop thinking ab...</td>\n",
       "      <td>PENNY</td>\n",
       "      <td>[This is one of my favorite places to kick bac...</td>\n",
       "      <td>[HOWARD, PENNY, HOWARD, HOWARD, HOWARD, PENNY,...</td>\n",
       "      <td>BBT</td>\n",
       "      <td>True</td>\n",
       "      <td>F</td>\n",
       "    </tr>\n",
       "    <tr>\n",
       "      <th>180</th>\n",
       "      <td>Since it's not bee season, you can have my epi...</td>\n",
       "      <td>SHELDON</td>\n",
       "      <td>[Here we go. Pad thai, no peanuts., But does i...</td>\n",
       "      <td>[LEONARD, HOWARD, LEONARD]</td>\n",
       "      <td>BBT</td>\n",
       "      <td>False</td>\n",
       "      <td>M</td>\n",
       "    </tr>\n",
       "    <tr>\n",
       "      <th>190</th>\n",
       "      <td>Lois Lane is falling, accelerating at an initi...</td>\n",
       "      <td>SHELDON</td>\n",
       "      <td>[A marathon? How many Superman movies are ther...</td>\n",
       "      <td>[PENNY, SHELDON, PENNY, SHELDON, SHELDON, PENN...</td>\n",
       "      <td>BBT</td>\n",
       "      <td>False</td>\n",
       "      <td>M</td>\n",
       "    </tr>\n",
       "    <tr>\n",
       "      <th>1105</th>\n",
       "      <td>I'm just inferring this is a couch because the...</td>\n",
       "      <td>SHELDON</td>\n",
       "      <td>[Great Caesar's ghost, look at this place., So...</td>\n",
       "      <td>[SHELDON, LEONARD, SHELDON, SHELDON, SHELDON, ...</td>\n",
       "      <td>BBT</td>\n",
       "      <td>True</td>\n",
       "      <td>M</td>\n",
       "    </tr>\n",
       "  </tbody>\n",
       "</table>\n",
       "</div>"
      ],
      "text/plain": [
       "                                              utterance  speaker  \\\n",
       "160   It's just a privilege to watch your mind at work.  SHELDON   \n",
       "170   I don't think I'll be able to stop thinking ab...    PENNY   \n",
       "180   Since it's not bee season, you can have my epi...  SHELDON   \n",
       "190   Lois Lane is falling, accelerating at an initi...  SHELDON   \n",
       "1105  I'm just inferring this is a couch because the...  SHELDON   \n",
       "\n",
       "                                                context  \\\n",
       "160   [I never would have identified the fingerprint...   \n",
       "170   [This is one of my favorite places to kick bac...   \n",
       "180   [Here we go. Pad thai, no peanuts., But does i...   \n",
       "190   [A marathon? How many Superman movies are ther...   \n",
       "1105  [Great Caesar's ghost, look at this place., So...   \n",
       "\n",
       "                                       context_speakers show sarcasm gender  \n",
       "160                                  [LEONARD, SHELDON]  BBT    True      M  \n",
       "170   [HOWARD, PENNY, HOWARD, HOWARD, HOWARD, PENNY,...  BBT    True      F  \n",
       "180                          [LEONARD, HOWARD, LEONARD]  BBT   False      M  \n",
       "190   [PENNY, SHELDON, PENNY, SHELDON, SHELDON, PENN...  BBT   False      M  \n",
       "1105  [SHELDON, LEONARD, SHELDON, SHELDON, SHELDON, ...  BBT    True      M  "
      ]
     },
     "execution_count": 9,
     "metadata": {},
     "output_type": "execute_result"
    }
   ],
   "source": [
    "df_filtered.head()"
   ]
  },
  {
   "cell_type": "code",
   "execution_count": 10,
   "id": "067c81bc-2e1f-4e8e-adf6-3ade676cf04c",
   "metadata": {},
   "outputs": [],
   "source": [
    "# Save the filtered data to a CSV file\n",
    "df_filtered.to_csv('sarcasm_data.csv', index=False) "
   ]
  }
 ],
 "metadata": {
  "kernelspec": {
   "display_name": "Python3",
   "language": "python",
   "name": "python3"
  },
  "language_info": {
   "codemirror_mode": {
    "name": "ipython",
    "version": 3
   },
   "file_extension": ".py",
   "mimetype": "text/x-python",
   "name": "python",
   "nbconvert_exporter": "python",
   "pygments_lexer": "ipython3",
   "version": "3.11.9"
  }
 },
 "nbformat": 4,
 "nbformat_minor": 5
}

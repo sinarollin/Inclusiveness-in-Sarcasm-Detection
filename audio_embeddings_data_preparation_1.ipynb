{
 "cells": [
  {
   "cell_type": "markdown",
   "metadata": {},
   "source": [
    "**Authors**: Céline Hirsch, Sandra Frey, Sina Röllin\n",
    "\n",
    "**Deep Learning Project**: Inclusiveness in Sarcasm Detection"
   ]
  },
  {
   "cell_type": "markdown",
   "metadata": {},
   "source": [
    "# Audio Data Preparation for the Embeddings after Augmentation"
   ]
  },
  {
   "cell_type": "markdown",
   "metadata": {},
   "source": [
    "The following steps show the data preparation of the embeddings with the Wav2Vec2 model."
   ]
  },
  {
   "cell_type": "code",
   "execution_count": 2,
   "metadata": {},
   "outputs": [],
   "source": [
    "#Importing the necessary libraries\n",
    "from functions_audio_model import *\n",
    "from moviepy.editor import VideoFileClip\n",
    "import torch\n",
    "import os\n",
    "import torchaudio\n",
    "import numpy as np"
   ]
  },
  {
   "cell_type": "code",
   "execution_count": null,
   "metadata": {},
   "outputs": [],
   "source": [
    "audio_dir = 'data/audio/F/'\n",
    "\n",
    "bundle = torchaudio.pipelines.WAV2VEC2_ASR_BASE_960H\n",
    "model = bundle.get_model()\n",
    "\n",
    "for file_name in os.listdir(audio_dir):\n",
    "    if file_name.endswith('.wav'):\n",
    "        file_path = os.path.join(audio_dir, file_name)\n",
    "        y, sr = torchaudio.load(file_path)\n",
    "        with torch.inference_mode():\n",
    "            feats, _ = model.extract_features(torch.unsqueeze(y[0], dim=0))\n",
    "            embeddings_path = os.path.join('data/audio/embeddingsF/', file_name.replace('.wav', '_w2V2.npy'))\n",
    "            np.save(embeddings_path, feats[0].detach().numpy())\n",
    "            "
   ]
  },
  {
   "cell_type": "code",
   "execution_count": 2,
   "metadata": {},
   "outputs": [],
   "source": [
    "audio_dir = 'data/audio/M/'\n",
    "\n",
    "bundle = torchaudio.pipelines.WAV2VEC2_ASR_BASE_960H\n",
    "model = bundle.get_model()\n",
    "\n",
    "for file_name in os.listdir(audio_dir):\n",
    "    if file_name.endswith('.wav'):\n",
    "        file_path = os.path.join(audio_dir, file_name)\n",
    "        y, sr = torchaudio.load(file_path)\n",
    "        with torch.inference_mode():\n",
    "            feats, _ = model.extract_features(torch.unsqueeze(y[0], dim=0))\n",
    "            embeddings_path = os.path.join('data/audio/embeddingsM/', file_name.replace('.wav', '_w2V2.npy'))\n",
    "            np.save(embeddings_path, feats[0].detach().numpy())\n",
    "            "
   ]
  },
  {
   "cell_type": "code",
   "execution_count": 3,
   "metadata": {},
   "outputs": [],
   "source": [
    "audio_dir = 'data/audio/mixed/'\n",
    "\n",
    "bundle = torchaudio.pipelines.WAV2VEC2_ASR_BASE_960H\n",
    "model = bundle.get_model()\n",
    "\n",
    "for file_name in os.listdir(audio_dir):\n",
    "    if file_name.endswith('.wav'):\n",
    "        file_path = os.path.join(audio_dir, file_name)\n",
    "        y, sr = torchaudio.load(file_path)\n",
    "        with torch.inference_mode():\n",
    "            feats, _ = model.extract_features(torch.unsqueeze(y[0], dim=0))\n",
    "            embeddings_path = os.path.join('data/audio/embeddingsmixed/', file_name.replace('.wav', '_w2V2.npy'))\n",
    "            np.save(embeddings_path, feats[0].detach().numpy())\n",
    "            "
   ]
  },
  {
   "cell_type": "markdown",
   "metadata": {},
   "source": [
    "To check that all the augmented audio files were correctly implemented:"
   ]
  },
  {
   "cell_type": "code",
   "execution_count": 4,
   "metadata": {},
   "outputs": [
    {
     "name": "stdout",
     "output_type": "stream",
     "text": [
      "There are 203 .npy files in the female embeddings directory.\n"
     ]
    }
   ],
   "source": [
    "directory = 'data/audio/embeddingsF'\n",
    "\n",
    "files = os.listdir(directory)\n",
    "\n",
    "# Count the number of .wav files\n",
    "wav_files = [file for file in files if file.endswith('.npy')]\n",
    "num_wav_files = len(wav_files)\n",
    "\n",
    "print(f'There are {num_wav_files} .npy files in the female embeddings directory.')"
   ]
  },
  {
   "cell_type": "code",
   "execution_count": 5,
   "metadata": {},
   "outputs": [
    {
     "name": "stdout",
     "output_type": "stream",
     "text": [
      "There are 448 .npy files in the male embeddings directory.\n"
     ]
    }
   ],
   "source": [
    "directory = 'data/audio/embeddingsM'\n",
    "\n",
    "files = os.listdir(directory)\n",
    "\n",
    "# Count the number of .wav files\n",
    "wav_files = [file for file in files if file.endswith('.npy')]\n",
    "num_wav_files = len(wav_files)\n",
    "\n",
    "print(f'There are {num_wav_files} .npy files in the male embeddings directory.')"
   ]
  },
  {
   "cell_type": "code",
   "execution_count": 6,
   "metadata": {},
   "outputs": [
    {
     "name": "stdout",
     "output_type": "stream",
     "text": [
      "There are 860 .npy files in the mixed embeddings directory.\n"
     ]
    }
   ],
   "source": [
    "directory = 'data/audio/embeddingsmixed'\n",
    "\n",
    "files = os.listdir(directory)\n",
    "\n",
    "# Count the number of .wav files\n",
    "wav_files = [file for file in files if file.endswith('.npy')]\n",
    "num_wav_files = len(wav_files)\n",
    "\n",
    "print(f'There are {num_wav_files} .npy files in the mixed embeddings directory.')"
   ]
  }
 ],
 "metadata": {
  "kernelspec": {
   "display_name": "DLPROJ",
   "language": "python",
   "name": "python3"
  },
  "language_info": {
   "codemirror_mode": {
    "name": "ipython",
    "version": 3
   },
   "file_extension": ".py",
   "mimetype": "text/x-python",
   "name": "python",
   "nbconvert_exporter": "python",
   "pygments_lexer": "ipython3",
   "version": "3.11.9"
  }
 },
 "nbformat": 4,
 "nbformat_minor": 2
}

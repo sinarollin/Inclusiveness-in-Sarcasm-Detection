{
 "cells": [
  {
   "cell_type": "code",
   "execution_count": 7,
   "id": "cc1af963-a617-4650-9179-722b955728fe",
   "metadata": {
    "execution": {
     "iopub.execute_input": "2024-04-17T08:42:06.674889Z",
     "iopub.status.busy": "2024-04-17T08:42:06.674083Z",
     "iopub.status.idle": "2024-04-17T08:42:06.909465Z",
     "shell.execute_reply": "2024-04-17T08:42:06.908207Z",
     "shell.execute_reply.started": "2024-04-17T08:42:06.674820Z"
    },
    "tags": []
   },
   "outputs": [],
   "source": [
    "import pandas as pd\n",
    "\n",
    "# Assuming your JSON file is named data.json\n",
    "file_path = \"sarcasm_data.json\"\n",
    "\n",
    "# Load JSON file into a DataFrame\n",
    "df = pd.read_json(file_path)\n",
    "df = df.transpose()"
   ]
  },
  {
   "cell_type": "code",
   "execution_count": 8,
   "id": "2d5e3a8b-db47-41fc-96c8-f36f7749c2ba",
   "metadata": {
    "execution": {
     "iopub.execute_input": "2024-04-17T08:42:08.753471Z",
     "iopub.status.busy": "2024-04-17T08:42:08.752541Z",
     "iopub.status.idle": "2024-04-17T08:42:08.784012Z",
     "shell.execute_reply": "2024-04-17T08:42:08.781712Z",
     "shell.execute_reply.started": "2024-04-17T08:42:08.753394Z"
    },
    "tags": []
   },
   "outputs": [
    {
     "data": {
      "text/html": [
       "<div>\n",
       "<style scoped>\n",
       "    .dataframe tbody tr th:only-of-type {\n",
       "        vertical-align: middle;\n",
       "    }\n",
       "\n",
       "    .dataframe tbody tr th {\n",
       "        vertical-align: top;\n",
       "    }\n",
       "\n",
       "    .dataframe thead th {\n",
       "        text-align: right;\n",
       "    }\n",
       "</style>\n",
       "<table border=\"1\" class=\"dataframe\">\n",
       "  <thead>\n",
       "    <tr style=\"text-align: right;\">\n",
       "      <th></th>\n",
       "      <th>utterance</th>\n",
       "      <th>speaker</th>\n",
       "      <th>context</th>\n",
       "      <th>context_speakers</th>\n",
       "      <th>show</th>\n",
       "      <th>sarcasm</th>\n",
       "    </tr>\n",
       "  </thead>\n",
       "  <tbody>\n",
       "    <tr>\n",
       "      <th>160</th>\n",
       "      <td>It's just a privilege to watch your mind at work.</td>\n",
       "      <td>SHELDON</td>\n",
       "      <td>[I never would have identified the fingerprint...</td>\n",
       "      <td>[LEONARD, SHELDON]</td>\n",
       "      <td>BBT</td>\n",
       "      <td>True</td>\n",
       "    </tr>\n",
       "    <tr>\n",
       "      <th>170</th>\n",
       "      <td>I don't think I'll be able to stop thinking ab...</td>\n",
       "      <td>PENNY</td>\n",
       "      <td>[This is one of my favorite places to kick bac...</td>\n",
       "      <td>[HOWARD, PENNY, HOWARD, HOWARD, HOWARD, PENNY,...</td>\n",
       "      <td>BBT</td>\n",
       "      <td>True</td>\n",
       "    </tr>\n",
       "    <tr>\n",
       "      <th>180</th>\n",
       "      <td>Since it's not bee season, you can have my epi...</td>\n",
       "      <td>SHELDON</td>\n",
       "      <td>[Here we go. Pad thai, no peanuts., But does i...</td>\n",
       "      <td>[LEONARD, HOWARD, LEONARD]</td>\n",
       "      <td>BBT</td>\n",
       "      <td>False</td>\n",
       "    </tr>\n",
       "    <tr>\n",
       "      <th>190</th>\n",
       "      <td>Lois Lane is falling, accelerating at an initi...</td>\n",
       "      <td>SHELDON</td>\n",
       "      <td>[A marathon? How many Superman movies are ther...</td>\n",
       "      <td>[PENNY, SHELDON, PENNY, SHELDON, SHELDON, PENN...</td>\n",
       "      <td>BBT</td>\n",
       "      <td>False</td>\n",
       "    </tr>\n",
       "    <tr>\n",
       "      <th>1105</th>\n",
       "      <td>I'm just inferring this is a couch because the...</td>\n",
       "      <td>SHELDON</td>\n",
       "      <td>[Great Caesar's ghost, look at this place., So...</td>\n",
       "      <td>[SHELDON, LEONARD, SHELDON, SHELDON, SHELDON, ...</td>\n",
       "      <td>BBT</td>\n",
       "      <td>True</td>\n",
       "    </tr>\n",
       "  </tbody>\n",
       "</table>\n",
       "</div>"
      ],
      "text/plain": [
       "                                              utterance  speaker  \\\n",
       "160   It's just a privilege to watch your mind at work.  SHELDON   \n",
       "170   I don't think I'll be able to stop thinking ab...    PENNY   \n",
       "180   Since it's not bee season, you can have my epi...  SHELDON   \n",
       "190   Lois Lane is falling, accelerating at an initi...  SHELDON   \n",
       "1105  I'm just inferring this is a couch because the...  SHELDON   \n",
       "\n",
       "                                                context  \\\n",
       "160   [I never would have identified the fingerprint...   \n",
       "170   [This is one of my favorite places to kick bac...   \n",
       "180   [Here we go. Pad thai, no peanuts., But does i...   \n",
       "190   [A marathon? How many Superman movies are ther...   \n",
       "1105  [Great Caesar's ghost, look at this place., So...   \n",
       "\n",
       "                                       context_speakers show sarcasm  \n",
       "160                                  [LEONARD, SHELDON]  BBT    True  \n",
       "170   [HOWARD, PENNY, HOWARD, HOWARD, HOWARD, PENNY,...  BBT    True  \n",
       "180                          [LEONARD, HOWARD, LEONARD]  BBT   False  \n",
       "190   [PENNY, SHELDON, PENNY, SHELDON, SHELDON, PENN...  BBT   False  \n",
       "1105  [SHELDON, LEONARD, SHELDON, SHELDON, SHELDON, ...  BBT    True  "
      ]
     },
     "execution_count": 8,
     "metadata": {},
     "output_type": "execute_result"
    }
   ],
   "source": [
    "df.head()"
   ]
  },
  {
   "cell_type": "code",
   "execution_count": 11,
   "id": "0efa3c46-e28d-4eb3-8a31-a28299452bf8",
   "metadata": {
    "execution": {
     "iopub.execute_input": "2024-04-17T08:51:17.399056Z",
     "iopub.status.busy": "2024-04-17T08:51:17.397434Z",
     "iopub.status.idle": "2024-04-17T08:51:17.415399Z",
     "shell.execute_reply": "2024-04-17T08:51:17.413995Z",
     "shell.execute_reply.started": "2024-04-17T08:51:17.398960Z"
    },
    "tags": []
   },
   "outputs": [
    {
     "data": {
      "text/plain": [
       "(690, 6)"
      ]
     },
     "execution_count": 11,
     "metadata": {},
     "output_type": "execute_result"
    }
   ],
   "source": [
    "df.shape"
   ]
  },
  {
   "cell_type": "code",
   "execution_count": 10,
   "id": "6a2c58f9-39e9-4529-82b3-535523e8524e",
   "metadata": {
    "execution": {
     "iopub.execute_input": "2024-04-17T08:43:10.807694Z",
     "iopub.status.busy": "2024-04-17T08:43:10.806785Z",
     "iopub.status.idle": "2024-04-17T08:43:10.826312Z",
     "shell.execute_reply": "2024-04-17T08:43:10.823882Z",
     "shell.execute_reply.started": "2024-04-17T08:43:10.807625Z"
    },
    "tags": []
   },
   "outputs": [
    {
     "data": {
      "text/plain": [
       "array(['SHELDON', 'PENNY', 'HOWARD', 'LEONARD', 'RAJ', 'PERSON',\n",
       "       'BERNADETTE', 'AMY', 'PERSON3', 'PERSON1', 'CHANDLER', 'ROSS',\n",
       "       'MONICA', 'JOEY', 'RACHEL', 'PHOEBE', 'DOROTHY', 'ROSE',\n",
       "       'MEMBER-GIRL', 'MODERATOR', 'MEMBER-BOY'], dtype=object)"
      ]
     },
     "execution_count": 10,
     "metadata": {},
     "output_type": "execute_result"
    }
   ],
   "source": [
    "df['speaker'].unique()\n",
    "df['speaker']"
   ]
  },
  {
   "cell_type": "code",
   "execution_count": 16,
   "id": "f60ee3e2-d144-4011-a289-c49233cf9e66",
   "metadata": {
    "execution": {
     "iopub.execute_input": "2024-04-17T08:54:04.479181Z",
     "iopub.status.busy": "2024-04-17T08:54:04.478354Z",
     "iopub.status.idle": "2024-04-17T08:54:04.501561Z",
     "shell.execute_reply": "2024-04-17T08:54:04.500152Z",
     "shell.execute_reply.started": "2024-04-17T08:54:04.479113Z"
    },
    "tags": []
   },
   "outputs": [
    {
     "data": {
      "text/plain": [
       "(633, 6)"
      ]
     },
     "execution_count": 16,
     "metadata": {},
     "output_type": "execute_result"
    }
   ],
   "source": [
    "df_filtered = df[df['speaker'] != 'PERSON']\n",
    "df_filtered = df_filtered[df_filtered['speaker'] != 'PERSON1']\n",
    "df_filtered = df_filtered[df_filtered['speaker'] != 'PERSON3']\n",
    "df_filtered = df_filtered[df_filtered['speaker'] != 'MODERATOR']\n",
    "df_filtered.shape"
   ]
  }
 ],
 "metadata": {
  "kernelspec": {
   "display_name": "Python3",
   "language": "python",
   "name": "python3"
  },
  "language_info": {
   "codemirror_mode": {
    "name": "ipython",
    "version": 3
   },
   "file_extension": ".py",
   "mimetype": "text/x-python",
   "name": "python",
   "nbconvert_exporter": "python",
   "pygments_lexer": "ipython3",
   "version": "3.11.5"
  }
 },
 "nbformat": 4,
 "nbformat_minor": 5
}

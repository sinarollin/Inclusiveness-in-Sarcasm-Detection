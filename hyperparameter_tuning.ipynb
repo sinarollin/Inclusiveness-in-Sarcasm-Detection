{
 "cells": [
  {
   "cell_type": "markdown",
   "metadata": {},
   "source": [
    "This file contains the program used to hyperparameter tune our hyperparameters with pytorch:\n",
    "Learning Rate\n",
    "Number of Epochs\n",
    "Batch Size\n"
   ]
  },
  {
   "cell_type": "code",
   "execution_count": 1,
   "metadata": {},
   "outputs": [],
   "source": [
    "from functions_text_model import *\n",
    "import os"
   ]
  },
  {
   "cell_type": "code",
   "execution_count": 2,
   "metadata": {},
   "outputs": [
    {
     "name": "stderr",
     "output_type": "stream",
     "text": [
      "/Users/sinarollin/opt/anaconda3/envs/DLPROJ/lib/python3.11/site-packages/tqdm/auto.py:21: TqdmWarning: IProgress not found. Please update jupyter and ipywidgets. See https://ipywidgets.readthedocs.io/en/stable/user_install.html\n",
      "  from .autonotebook import tqdm as notebook_tqdm\n"
     ]
    }
   ],
   "source": [
    "\n",
    "from transformers import BertTokenizer\n",
    "from torch.utils.data import Dataset, DataLoader\n",
    "import json\n",
    "from transformers import BertForSequenceClassification, BertTokenizer\n",
    "from torch.optim import AdamW\n",
    "from torch.utils.data import Dataset, DataLoader\n",
    "import torch.nn as nn\n",
    "from torch.utils.data import random_split\n",
    "from sklearn.model_selection import ParameterGrid\n",
    "\n",
    "\n",
    "# Load the BERT tokenizer\n",
    "tokenizer = BertTokenizer.from_pretrained('bert-base-uncased', do_lower_case=True)\n",
    "\n",
    "# Function to encode the text\n",
    "def encode_text(text):\n",
    "    encoded_dict = tokenizer.encode_plus(\n",
    "                        text,                      # Input text\n",
    "                        add_special_tokens = True, # Add '[CLS]' and '[SEP]'\n",
    "                        max_length = 64,           # Pad & truncate all sentences\n",
    "                        truncation = True,\n",
    "                        padding = 'max_length',\n",
    "                        return_attention_mask = True,   # Construct attention masks\n",
    "                        return_tensors = 'pt',     # Return pytorch tensors\n",
    "                   )\n",
    "    return encoded_dict['input_ids'], encoded_dict['attention_mask']\n",
    "\n",
    "# PyTorch Dataset\n",
    "class SarcasmDataset(Dataset):\n",
    "    def __init__(self, data):\n",
    "        self.data = data\n",
    "\n",
    "    def __len__(self):\n",
    "        return len(self.data)\n",
    "\n",
    "    def __getitem__(self, idx):\n",
    "        item = self.data[idx]\n",
    "        utterance = item['utterance']\n",
    "        sarcasm = int(item['sarcasm'])\n",
    "        input_ids, attention_mask = encode_text(utterance)\n",
    "        return input_ids.flatten(), attention_mask.flatten(), sarcasm\n",
    "# Create the DataLoader\n",
    "# Load the data from the JSON file\n",
    "with open('sarcasm_data.json') as f:\n",
    "    data = json.load(f)\n",
    "\n",
    "# Convert the data to a list of dictionaries\n",
    "data = list(data.values())\n",
    "\n",
    "dataset = SarcasmDataset(data)"
   ]
  },
  {
   "cell_type": "code",
   "execution_count": 3,
   "metadata": {},
   "outputs": [
    {
     "name": "stderr",
     "output_type": "stream",
     "text": [
      "Some weights of BertForSequenceClassification were not initialized from the model checkpoint at bert-base-uncased and are newly initialized: ['classifier.bias', 'classifier.weight']\n",
      "You should probably TRAIN this model on a down-stream task to be able to use it for predictions and inference.\n"
     ]
    },
    {
     "ename": "",
     "evalue": "",
     "output_type": "error",
     "traceback": [
      "\u001b[1;31mThe Kernel crashed while executing code in the current cell or a previous cell. \n",
      "\u001b[1;31mPlease review the code in the cell(s) to identify a possible cause of the failure. \n",
      "\u001b[1;31mClick <a href='https://aka.ms/vscodeJupyterKernelCrash'>here</a> for more info. \n",
      "\u001b[1;31mView Jupyter <a href='command:jupyter.viewOutput'>log</a> for further details."
     ]
    }
   ],
   "source": [
    "# Define the hyperparameters to tune\n",
    "param_grid = {\n",
    "    'lr': [1e-3, 1e-4, 1e-5],\n",
    "    'num_epochs': [5, 10, 15],\n",
    "    'batch_size': [8, 16, 32, 64]\n",
    "}\n",
    "\n",
    "# Set device\n",
    "#device = torch.device(\"cpu\")\n",
    "\n",
    "# Create a parameter grid\n",
    "grid = ParameterGrid(param_grid)\n",
    "\n",
    "# For each combination of hyperparameters\n",
    "for params in grid:\n",
    "    # Create a new model\n",
    "    model = BertForSequenceClassification.from_pretrained(\n",
    "        \"bert-base-uncased\",\n",
    "        num_labels = 2,\n",
    "        output_attentions = False,\n",
    "        output_hidden_states = False,\n",
    "    )\n",
    "    model.bert.parameters.requires_grad = False\n",
    "\n",
    "    #model.to(device)\n",
    "\n",
    "    # Create a new optimizer with the current learning rate\n",
    "    optimizer = AdamW(model.parameters(), lr=params['lr'])\n",
    "    # Create the optimizer  \n",
    "    criterion = nn.CrossEntropyLoss()\n",
    "\n",
    "    metrics = {'ACC': acc, 'F1-weighted': f1}\n",
    "    # Define the size of the training set and the test set\n",
    "    train_size = int(0.8 * len(dataset))  # 80% of the data for training\n",
    "    test_size = len(dataset) - train_size  # 20% of the data for testing\n",
    "\n",
    "    # Split the dataset\n",
    "    train_dataset, test_dataset = random_split(dataset, [train_size, test_size])\n",
    "\n",
    "    # Create the DataLoaders\n",
    "    train_dataloader = DataLoader(train_dataset, batch_size=params['batch_size'])\n",
    "    test_dataloader = DataLoader(test_dataset, batch_size=params['batch_size'])\n",
    "\n",
    "\n",
    "    # Train and evaluate the model for the current number of epochs\n",
    "    for epoch in range(params['num_epochs']):\n",
    "        train_loss, train_metrics = train_epoch(model, optimizer, criterion, metrics, train_dataloader, device)\n",
    "        eval_loss, eval_metrics = evaluate(model, criterion, metrics, test_dataloader, device)\n",
    "\n",
    "    # Print the results\n",
    "    print(f\"lr: {params['lr']}, batch_size: {params['batch_size']}, num_epochs: {params['num_epochs']}, eval_loss: {eval_loss}, eval_metrics: {eval_metrics}\")"
   ]
  },
  {
   "cell_type": "code",
   "execution_count": 9,
   "metadata": {},
   "outputs": [
    {
     "name": "stdout",
     "output_type": "stream",
     "text": [
      "train Loss: 0.6928,  ACC: 0.5215, F1-weighted: 0.4583\n"
     ]
    },
    {
     "name": "stderr",
     "output_type": "stream",
     "text": [
      "100%|██████████| 3/3 [00:13<00:00,  4.47s/it]\n"
     ]
    },
    {
     "name": "stdout",
     "output_type": "stream",
     "text": [
      "eval Loss: 0.6984,  ACC: 0.4844, F1-weighted: 0.3486\n",
      "[{'lr': 0.001, 'batch_size': 8, 'num_epochs': 5, 'eval_loss': 0.6320563554763794, 'eval_metrics': {'ACC': 0.6319444444444444, 'F1-weighted': 0.49410589410589423}}, {'lr': 0.0001, 'batch_size': 8, 'num_epochs': 5, 'eval_loss': 0.6813187963432736, 'eval_metrics': {'ACC': 0.6041666666666666, 'F1-weighted': 0.5322923989590657}}, {'lr': 1e-05, 'batch_size': 8, 'num_epochs': 5, 'eval_loss': 0.6862524151802063, 'eval_metrics': {'ACC': 0.5486111111111112, 'F1-weighted': 0.48931284764618105}}, {'lr': 0.001, 'batch_size': 16, 'num_epochs': 5, 'eval_loss': 0.7095533344480727, 'eval_metrics': {'ACC': 0.5416666666666666, 'F1-weighted': 0.5298845862313354}}, {'lr': 0.0001, 'batch_size': 16, 'num_epochs': 5, 'eval_loss': 0.6883872614966499, 'eval_metrics': {'ACC': 0.5388888888888889, 'F1-weighted': 0.44173358847271893}}, {'lr': 1e-05, 'batch_size': 16, 'num_epochs': 5, 'eval_loss': 0.7074771987067329, 'eval_metrics': {'ACC': 0.45694444444444443, 'F1-weighted': 0.35963553165599205}}, {'lr': 0.001, 'batch_size': 32, 'num_epochs': 5, 'eval_loss': 0.6715264320373535, 'eval_metrics': {'ACC': 0.5825, 'F1-weighted': 0.40649434319182215}}, {'lr': 0.0001, 'batch_size': 32, 'num_epochs': 5, 'eval_loss': 0.7022266864776612, 'eval_metrics': {'ACC': 0.44375, 'F1-weighted': 0.39618692607027706}}, {'lr': 1e-05, 'batch_size': 32, 'num_epochs': 5, 'eval_loss': 0.6897956013679505, 'eval_metrics': {'ACC': 0.53125, 'F1-weighted': 0.4975698673128294}}, {'lr': 0.001, 'batch_size': 64, 'num_epochs': 5, 'eval_loss': 0.6729104518890381, 'eval_metrics': {'ACC': 0.603125, 'F1-weighted': 0.5666506805784625}}, {'lr': 0.0001, 'batch_size': 64, 'num_epochs': 5, 'eval_loss': 0.6901440620422363, 'eval_metrics': {'ACC': 0.515625, 'F1-weighted': 0.4408191504081915}}, {'lr': 1e-05, 'batch_size': 64, 'num_epochs': 5, 'eval_loss': 0.6984360416730245, 'eval_metrics': {'ACC': 0.484375, 'F1-weighted': 0.34864433811802237}}]\n"
     ]
    }
   ],
   "source": [
    "# Define the hyperparameters to tune\n",
    "param_grid = {\n",
    "    'lr': [1e-3, 1e-4, 1e-5],\n",
    "    'num_epochs': [5],\n",
    "    'batch_size': [8, 16, 32, 64]\n",
    "}\n",
    "\n",
    "\n",
    "# Create a parameter grid\n",
    "grid = ParameterGrid(param_grid)\n",
    "\n",
    "# Initialize a list to store the results\n",
    "results = []\n",
    "\n",
    "# For each combination of hyperparameters\n",
    "for params in grid:\n",
    "    # Create a new model\n",
    "    model = BertForSequenceClassification.from_pretrained(\n",
    "        \"bert-base-uncased\",\n",
    "        num_labels = 2,\n",
    "        output_attentions = False,\n",
    "        output_hidden_states = False,\n",
    "    )\n",
    "\n",
    "    # Set device\n",
    "    device = torch.device(\"cpu\")\n",
    "    model.to(device)\n",
    "\n",
    "    # Create a new optimizer with the current learning rate\n",
    "    # FINE BUT NEED TO FOCUS ON LAYER\n",
    "    optimizer = AdamW(model.classifier.parameters(), lr=params['lr'])\n",
    "    # Create the optimizer  \n",
    "    criterion = nn.CrossEntropyLoss()\n",
    "\n",
    "    metrics = {'ACC': acc, 'F1-weighted': f1}\n",
    "    # Define the size of the training set and the test set\n",
    "    train_size = int(0.8 * len(dataset))  # 80% of the data for training\n",
    "    test_size = len(dataset) - train_size  # 20% of the data for testing\n",
    "\n",
    "    # Split the dataset\n",
    "    train_dataset, test_dataset = random_split(dataset, [train_size, test_size])\n",
    "\n",
    "    # Create the DataLoaders\n",
    "    train_dataloader = DataLoader(train_dataset, batch_size=params['batch_size'])\n",
    "    test_dataloader = DataLoader(test_dataset, batch_size=params['batch_size'])\n",
    "\n",
    "\n",
    "    # Train and evaluate the model for the current number of epochs\n",
    "    for epoch in range(params['num_epochs']):\n",
    "        train_loss, train_metrics = train_epoch(model, optimizer, criterion, metrics, train_dataloader, device)\n",
    "        eval_loss, eval_metrics = evaluate(model, criterion, metrics, test_dataloader, device)\n",
    "\n",
    "    # Store the results\n",
    "    results.append({\n",
    "        'lr': params['lr'],\n",
    "        'batch_size': params['batch_size'],\n",
    "        'num_epochs': params['num_epochs'],\n",
    "        'eval_loss': eval_loss,\n",
    "        'eval_metrics': eval_metrics\n",
    "    })\n",
    "\n",
    "# Save the results to a JSON file\n",
    "with open('results.json', 'w') as f:\n",
    "    json.dump(results, f)\n",
    "\n",
    "print(results)"
   ]
  },
  {
   "cell_type": "code",
   "execution_count": 5,
   "metadata": {},
   "outputs": [
    {
     "name": "stderr",
     "output_type": "stream",
     "text": [
      "Some weights of BertForSequenceClassification were not initialized from the model checkpoint at bert-base-uncased and are newly initialized: ['classifier.bias', 'classifier.weight']\n",
      "You should probably TRAIN this model on a down-stream task to be able to use it for predictions and inference.\n"
     ]
    }
   ],
   "source": [
    "model = BertForSequenceClassification.from_pretrained(\n",
    "        \"bert-base-uncased\",\n",
    "        num_labels = 2,\n",
    "        output_attentions = False,\n",
    "        output_hidden_states = False,\n",
    "    )"
   ]
  },
  {
   "cell_type": "code",
   "execution_count": 10,
   "metadata": {},
   "outputs": [
    {
     "data": {
      "text/plain": [
       "<generator object Module.parameters at 0x12f2b3d80>"
      ]
     },
     "execution_count": 10,
     "metadata": {},
     "output_type": "execute_result"
    }
   ],
   "source": [
    "model.parameters()\n",
    "\n",
    "\n"
   ]
  },
  {
   "cell_type": "code",
   "execution_count": null,
   "metadata": {},
   "outputs": [],
   "source": [
    "lr = 0.0001\n",
    "batchsize = 8\n",
    "epochs = 5"
   ]
  },
  {
   "cell_type": "code",
   "execution_count": null,
   "metadata": {},
   "outputs": [],
   "source": []
  },
  {
   "cell_type": "code",
   "execution_count": null,
   "metadata": {},
   "outputs": [],
   "source": []
  },
  {
   "cell_type": "code",
   "execution_count": null,
   "metadata": {},
   "outputs": [],
   "source": []
  },
  {
   "cell_type": "code",
   "execution_count": null,
   "metadata": {},
   "outputs": [],
   "source": []
  },
  {
   "cell_type": "code",
   "execution_count": null,
   "metadata": {},
   "outputs": [],
   "source": []
  },
  {
   "cell_type": "code",
   "execution_count": null,
   "metadata": {},
   "outputs": [],
   "source": []
  },
  {
   "cell_type": "code",
   "execution_count": null,
   "metadata": {},
   "outputs": [],
   "source": []
  },
  {
   "cell_type": "code",
   "execution_count": 7,
   "metadata": {},
   "outputs": [
    {
     "name": "stdout",
     "output_type": "stream",
     "text": [
      "train Loss: 0.0900,  ACC: 0.9783, F1-weighted: 0.9735\n"
     ]
    },
    {
     "name": "stderr",
     "output_type": "stream",
     "text": [
      "100%|██████████| 18/18 [00:10<00:00,  1.68it/s]\n"
     ]
    },
    {
     "name": "stdout",
     "output_type": "stream",
     "text": [
      "eval Loss: 0.7990,  ACC: 0.7083, F1-weighted: 0.6801\n"
     ]
    },
    {
     "data": {
      "image/png": "[encoded data removed]",
      "text/plain": [
       "<Figure size 1500x500 with 3 Axes>"
      ]
     },
     "metadata": {},
     "output_type": "display_data"
    },
    {
     "name": "stdout",
     "output_type": "stream",
     "text": [
      "Model trained and saved!\n"
     ]
    }
   ],
   "source": [
    "torch.manual_seed(314159)\n",
    "\n",
    "# Load BERT model\n",
    "model = BertForSequenceClassification.from_pretrained(\n",
    "    \"bert-base-uncased\", # Use the base BERT model\n",
    "    num_labels = 2, # Binary classification (sarcasm or not)\n",
    "    output_attentions = False, # Whether the model returns attentions weights\n",
    "    output_hidden_states = False, # Whether the model returns all hidden-states\n",
    ")\n",
    "\n",
    "# Load the BERT tokenizer\n",
    "#tokenizer = BertTokenizer.from_pretrained('bert-base-uncased', do_lower_case=True)\n",
    "\n",
    "#HYPEPARAMETERs TO TUNE\n",
    "learning_rate = 0.001\n",
    "N_EPOCHS = 5\n",
    "batchsize = 8\n",
    "\n",
    "# Define the size of the training set and the test set\n",
    "train_size = int(0.8 * len(dataset))  # 80% of the data for training\n",
    "test_size = len(dataset) - train_size  # 20% of the data for testing\n",
    "\n",
    "# Split the dataset\n",
    "train_dataset, test_dataset = random_split(dataset, [train_size, test_size])\n",
    "\n",
    "# Create the DataLoaders\n",
    "train_dataloader = DataLoader(train_dataset, batch_size=batchsize)\n",
    "test_dataloader = DataLoader(test_dataset, batch_size=batchsize)\n",
    "\n",
    "# Set device\n",
    "device = torch.device(\"cpu\")\n",
    "\n",
    "# Move the model to the CPU\n",
    "model.to(device)\n",
    "\n",
    "# Create the optimizer\n",
    "optimizer = AdamW(model.parameters(), lr=1e-5)\n",
    "criterion = nn.CrossEntropyLoss()\n",
    "\n",
    "\n",
    "metrics = {'ACC': acc, 'F1-weighted': f1}\n",
    "\n",
    "\n",
    "device = torch.device(\"cuda\" if torch.cuda.is_available() else \"cpu\")\n",
    "\n",
    "\n",
    "train_metrics_log, test_metrics_log = train_cycle(model, optimizer, criterion, metrics, train_dataloader, test_dataloader, n_epochs=N_EPOCHS, device=device)\n",
    "\n",
    "# save model weights\n",
    "results_models_weights_dir = 'models_weights/'\n",
    "if not os.path.exists(results_models_weights_dir):\n",
    "    os.mkdir(results_models_weights_dir)\n",
    "torch.save(model.state_dict(), results_models_weights_dir + 'base_model_trained_on_augmented_set.pth')\n",
    "\n",
    "print('Model trained and saved!')"
   ]
  },
  {
   "cell_type": "code",
   "execution_count": null,
   "metadata": {},
   "outputs": [],
   "source": [
    "torch.manual_seed(314159)\n",
    "\n",
    "# Load BERT model\n",
    "model = BertForSequenceClassification.from_pretrained(\n",
    "    \"bert-base-uncased\", # Use the base BERT model\n",
    "    num_labels = 2, # Binary classification (sarcasm or not)\n",
    "    output_attentions = False, # Whether the model returns attentions weights\n",
    "    output_hidden_states = False, # Whether the model returns all hidden-states\n",
    ")\n",
    "\n",
    "# Load the BERT tokenizer\n",
    "#tokenizer = BertTokenizer.from_pretrained('bert-base-uncased', do_lower_case=True)\n",
    "\n",
    "#HYPEPARAMETERs TO TUNE\n",
    "learning_rate = 0.001\n",
    "N_EPOCHS = 5\n",
    "batchsize = 8\n",
    "\n",
    "# Define the size of the training set and the test set\n",
    "train_size = int(0.8 * len(dataset))  # 80% of the data for training\n",
    "test_size = len(dataset) - train_size  # 20% of the data for testing\n",
    "\n",
    "# Split the dataset\n",
    "train_dataset, test_dataset = random_split(dataset, [train_size, test_size])\n",
    "\n",
    "# Create the DataLoaders\n",
    "train_dataloader = DataLoader(train_dataset, batch_size=batchsize)\n",
    "test_dataloader = DataLoader(test_dataset, batch_size=batchsize)\n",
    "\n",
    "# Set device\n",
    "device = torch.device(\"cpu\")\n",
    "\n",
    "# Move the model to the CPU\n",
    "model.to(device)\n",
    "\n",
    "# Create the optimizer\n",
    "optimizer = AdamW(model.parameters(), lr=1e-5)\n",
    "criterion = nn.CrossEntropyLoss()\n",
    "\n",
    "\n",
    "metrics = {'ACC': acc, 'F1-weighted': f1}\n",
    "\n",
    "\n",
    "device = torch.device(\"cuda\" if torch.cuda.is_available() else \"cpu\")\n",
    "\n",
    "\n",
    "train_metrics_log, test_metrics_log = train_cycle(model, optimizer, criterion, metrics, train_dataloader, test_dataloader, n_epochs=N_EPOCHS, device=device)\n",
    "\n",
    "# save model weights\n",
    "results_models_weights_dir = 'models_weights/'\n",
    "if not os.path.exists(results_models_weights_dir):\n",
    "    os.mkdir(results_models_weights_dir)\n",
    "torch.save(model.state_dict(), results_models_weights_dir + 'base_model_trained_on_augmented_set.pth')\n",
    "\n",
    "print('Model trained and saved!')"
   ]
  }
 ],
 "metadata": {
  "kernelspec": {
   "display_name": "DLproj",
   "language": "python",
   "name": "python3"
  },
  "language_info": {
   "codemirror_mode": {
    "name": "ipython",
    "version": 3
   },
   "file_extension": ".py",
   "mimetype": "text/x-python",
   "name": "python",
   "nbconvert_exporter": "python",
   "pygments_lexer": "ipython3",
   "version": "3.11.9"
  }
 },
 "nbformat": 4,
 "nbformat_minor": 2
}

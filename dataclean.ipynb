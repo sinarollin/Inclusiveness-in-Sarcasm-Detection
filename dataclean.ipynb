{
 "cells": [
  {
   "cell_type": "code",
   "execution_count": 4,
   "metadata": {},
   "outputs": [],
   "source": [
    "import json\n",
    "\n",
    "with open('data/mixed_data.json', 'r') as f:\n",
    "    data = json.load(f)\n",
    "\n",
    "ids = list(data.keys())"
   ]
  },
  {
   "cell_type": "code",
   "execution_count": 6,
   "metadata": {},
   "outputs": [
    {
     "data": {
      "text/plain": [
       "633"
      ]
     },
     "execution_count": 6,
     "metadata": {},
     "output_type": "execute_result"
    }
   ],
   "source": [
    "len(ids)"
   ]
  },
  {
   "cell_type": "code",
   "execution_count": 10,
   "metadata": {},
   "outputs": [],
   "source": [
    "#Importing the necessary libraries\n",
    "from functions_audio_model import *\n",
    "from moviepy.editor import VideoFileClip\n",
    "import torch\n",
    "from torch import nn\n",
    "from torch.utils.data import DataLoader, random_split\n",
    "from scipy.ndimage import zoom\n",
    "import numpy as np\n",
    "import os\n",
    "import json\n",
    "import librosa\n",
    "import timm"
   ]
  },
  {
   "cell_type": "code",
   "execution_count": 8,
   "metadata": {},
   "outputs": [],
   "source": [
    "#Load labels for sarcasm detection (from a different file, not part of the spectrograms folder)\n",
    "with open('data/mixed_data.json') as f:\n",
    "    text_data = json.load(f)\n",
    "    sarcasm_labels = {k: int(v['sarcasm']) for k, v in text_data.items()}"
   ]
  },
  {
   "cell_type": "code",
   "execution_count": 11,
   "metadata": {},
   "outputs": [
    {
     "name": "stdout",
     "output_type": "stream",
     "text": [
      "Missing files: ['1_60', '1_70', '1_80', '1_90', '1_105', '1_162', '1_175', '1_182', '1_213', '1_276', '1_340', '1_410', '1_427', '1_430', '1_467', '1_506', '1_507', '1_533', '1_536', '1_537', '1_672', '1_971', '1_1001', '1_1003', '1_1144', '1_1180', '1_1185', '1_1189', '1_1262', '1_1296', '1_1466', '1_1470', '1_1478', '1_1484', '1_1549', '1_1560', '1_1638', '1_1666', '1_1678', '1_1722', '1_1772', '1_1798', '1_1803', '1_1931', '1_1973', '1_1987', '1_2075', '1_2198', '1_2216', '1_2354', '1_2361', '1_2420', '1_2423', '1_2464', '1_2575', '1_2580', '1_2614', '1_2616', '1_2664', '1_2669', '1_2778', '1_2792', '1_2797', '1_2819', '1_2830', '1_2837', '1_2842', '1_2853', '1_3064', '1_3069', '1_3125', '1_3177', '1_3204', '1_3287', '1_3293', '1_3333', '1_3348', '1_3419', '1_3476', '1_3545', '1_3573', '1_3599', '1_3649', '1_3660', '1_3707', '1_3766', '1_3837', '1_3840', '1_3842', '1_4031', '1_4145', '1_4281', '1_4286', '1_4290', '1_4352', '1_4544', '1_4552', '1_4576', '1_4603', '1_4743', '1_4760', '1_4792', '1_4850', '1_4949', '1_4967', '1_4995', '1_5058', '1_5109', '1_5134', '1_5156', '1_5166', '1_5169', '1_5211', '1_5496', '1_5571', '1_5572', '1_5580', '1_5581', '1_5617', '1_5627', '1_5679', '1_5699', '1_5751', '1_5758', '1_5786', '1_5880', '1_5919', '1_5953', '1_5964', '1_6020', '1_6032', '1_6039', '1_6065', '1_6092', '1_6113', '1_6134', '1_6165', '1_6183', '1_6188', '1_6211', '1_6221', '1_6355', '1_6370', '1_6426', '1_6427', '1_6428', '1_6472', '1_6504', '1_6534', '1_6627', '1_6648', '1_6683', '1_6766', '1_6769', '1_6835', '1_6860', '1_7047', '1_7082', '1_7089', '1_7186', '1_7281', '1_7341', '1_7357', '1_7395', '1_7400', '1_7402', '1_7442', '1_7443', '1_7445', '1_7449', '1_7487', '1_7490', '1_7575', '1_7593', '1_7641', '1_7661', '1_7675', '1_7722', '1_7894', '1_7938', '1_8042', '1_8045', '1_8052', '1_8078', '1_8159', '1_8185', '1_8217', '1_8407', '1_8417', '1_8505', '1_8717', '1_8746', '1_8749', '1_8827', '1_8837', '1_9003', '1_9009', '1_9087', '1_9245', '1_9594', '1_9668', '1_9971', '1_9972', '1_9993', '1_10004', '1_10009', '1_10190', '1_10462', '1_10495', '1_10496', '1_10748', '1_10797', '1_10810', '1_10829', '1_10849', '1_10853', '1_10857', '1_10859', '1_10890', '1_10977', '1_11006', '1_11021', '1_11042', '1_11046', '1_11055', '1_11098', '1_11120', '1_11177', '1_11201', '1_11224', '1_11232', '1_11236', '1_11242', '1_11243', '1_11253', '1_11257', '1_11306', '1_11322', '1_11378', '1_11439', '1_11485', '1_11526', '1_11529', '1_11609', '1_11697', '1_11699', '1_11723', '1_11773', '1_11889', '1_11901', '1_11913', '1_11924', '1_11928', '1_12002', '1_12083', '1_12202', '1_12320', '1_12331', '2_223', '2_370', '2_556', '2_484', '2_498', '2_494', '2_477', '2_35', '2_279', '2_377', '2_595', '2_464', '2_408', '2_574', '2_409', '2_549', '2_598', '2_73', '2_374', '2_297', '2_286', '2_509', '2_508', '2_472', '2_227', '2_226', '2_478', '2_372', '2_241', '2_109', '2_389', '2_449', '2_50', '2_84', '2_322', '2_416', '2_124', '2_206', '2_204', '2_380', '2_622', '2_583', '2_456', '2_461', '2_152', '2_15', '2_421', '2_586', '2_160', '2_39', '2_66', '2_310', '2_345', '2_581', '2_518', '2_450', '2_567', '2_115', '2_183', '2_104', '2_288', '2_420', '2_49', '2_433', '2_428', '2_1', '2_168', '2_155', '2_2', '2_120', '2_487', '2_280', '2_447', '2_148', '2_532', '2_443', '2_475', '2_92', '2_258', '2_376', '2_114', '2_246', '2_268', '2_221', '2_369', '2_103', '2_457', '2_112', '2_174', '2_490', '2_430', '2_434', '2_541', '2_392', '2_187', '2_113', '2_323', '2_137', '2_294', '2_359', '2_141', '2_283', '2_24', '2_197', '2_493', '2_573', '2_440', '2_105', '2_3', '2_71', '2_20', '2_463', '2_602', '2_88', '2_172', '2_86', '2_154', '2_557', '2_163', '2_87', '2_240', '2_267', '2_284', '2_340', '2_536', '2_588', '2_448', '2_79', '2_191', '2_99', '2_208', '2_119', '2_406', '2_423', '2_77', '2_147', '2_559', '2_444', '2_299', '2_313', '2_125', '2_552', '2_181', '2_107', '2_347', '2_495', '2_525', '2_186', '2_506', '2_486', '2_149', '2_611', '2_429', '2_127', '2_36', '2_173', '2_38', '2_431', '2_13', '2_482', '2_203', '2_426', '2_357', '2_590', '2_316', '2_8', '2_343', '2_334', '2_367', '2_51', '2_282', '2_225', '2_514', '2_272', '2_43', '2_575', '2_339', '2_69', '2_217', '2_213', '2_96', '2_188', '2_29', '2_358', '2_263', '2_446', '2_594', '2_535', '2_617', '2_234', '2_437', '2_318', '2_579', '2_250', '2_194', '2_78', '2_337', '2_435', '2_419', '2_564', '2_261', '2_422', '2_445', '2_585', '2_91', '2_560', '2_425', '2_53', '2_481', '2_293', '2_248', '2_56', '2_260', '2_134', '2_488', '2_542', '2_504', '2_54', '2_300', '2_387', '2_569', '2_48', '2_253', '2_555', '2_441', '2_218', '2_537', '2_397', '2_572', '2_243', '2_474', '2_176', '2_58', '2_427', '2_534', '2_626', '2_33', '2_44', '2_189', '2_232', '2_400', '2_230', '2_180', '2_270', '2_550', '2_151', '2_385', '2_547', '2_65', '2_251', '2_205', '2_405', '2_375', '2_72', '2_353', '2_517', '2_521', '2_499', '2_393', '2_254', '2_407', '2_94', '2_198', '2_365', '2_301', '2_540', '2_302', '2_305', '2_27', '2_196', '2_264', '2_111', '2_202', '2_577', '2_467', '2_257', '2_31', '2_371', '2_531', '2_315', '2_413', '2_128', '2_326', '2_247', '2_576', '2_146', '2_458', '2_30', '2_171', '2_97', '2_7', '2_553', '2_291', '2_319', '2_314', '2_410', '2_166', '2_558', '2_289', '2_118', '2_28', '2_562', '2_231', '2_388', '2_102', '2_351', '2_350', '2_587', '2_612', '2_89', '2_599', '2_182', '2_292', '2_489', '2_390', '2_378', '2_9', '2_144', '2_479', '2_45', '2_507', '2_398', '2_281', '2_591', '2_462', '2_505', '2_74', '2_126', '2_158', '2_255', '2_502', '2_11', '2_135', '2_442', '2_342', '2_492', '2_512', '2_121', '2_129', '2_222', '2_604', '2_352', '2_344', '2_465', '2_471', '2_361', '2_209', '2_312', '2_485', '2_527', '2_596', '2_511', '2_287', '2_161', '2_589', '2_523', '2_491', '2_170', '2_500', '2_303', '2_570', '2_178', '2_438', '2_167', '2_373', '2_623', '2_131', '2_236', '2_546', '2_242', '2_169', '2_235', '2_34', '2_608', '2_524']\n",
      "Number of missing files: 633\n"
     ]
    }
   ],
   "source": [
    "# Check for missing files (To assure completeness of both spectrograms and labels not taking colour channels into account)\n",
    "spectrogram_dir = 'spectrograms/'\n",
    "missing_files = [label for label in sarcasm_labels if label + '.npy' not in os.listdir(spectrogram_dir)]\n",
    "\n",
    "print(f'Missing files: {missing_files}')\n",
    "print(f'Number of missing files: {len(missing_files)}')"
   ]
  },
  {
   "cell_type": "code",
   "execution_count": null,
   "metadata": {},
   "outputs": [],
   "source": [
    "#NOT TO BE RE-RUN\n",
    "#Creation of spectrograms from the waveform data extracted above\n",
    "\n",
    "\n",
    "#Directory containing audio files\n",
    "audio_dir = 'audio_files/'\n",
    "\n",
    "#Directory to save spectrograms\n",
    "spectrogram_dir = 'spectrograms/'\n",
    "\n",
    "#Length of the maximum waveform found in the dataset\n",
    "# 1_213.wav\n",
    "max_length = 882882\n",
    "\n",
    "\n",
    "for file_name in os.listdir(audio_dir):\n",
    "    if file_name.endswith('.wav'):\n",
    "        file_path = os.path.join(audio_dir, file_name)\n",
    "        y, sr = librosa.load(file_path)\n",
    "\n",
    "        #Padding the waveform to the maximum length found\n",
    "        if len(y) < max_length:\n",
    "            y_padded = np.pad(y, (0, max_length - len(y)), 'constant')\n",
    "        else:\n",
    "            y_padded = y[:max_length]\n",
    "\n",
    "        #Compute the short-time Fourier transform\n",
    "        D = librosa.stft(y_padded)\n",
    "\n",
    "        #Convert the amplitude to decibels (logarithmic scale)\n",
    "        D_log = librosa.amplitude_to_db(abs(D))\n",
    "\n",
    "        #Resize the spectrogram to 224x224 -> wanted dimensions for the Beit model\n",
    "        resize_factor_x = 224 / D_log.shape[1]\n",
    "        resize_factor_y = 224 / D_log.shape[0]\n",
    "        D_log_resized = zoom(D_log, (resize_factor_y, resize_factor_x))\n",
    "\n",
    "        #Conversion to colour image\n",
    "        D_log_resized_color = plt.get_cmap('viridis')(D_log_resized / np.amax(D_log_resized))\n",
    "\n",
    "        #Remove the alpha channel of the RGBA image\n",
    "        D_log_resized_color = D_log_resized_color[:, :, :3]\n",
    "\n",
    "        #All colour channels saved in the same variable\n",
    "        red_channel = D_log_resized_color[:, :, 0]\n",
    "        green_channel = D_log_resized_color[:, :, 1]\n",
    "        blue_channel = D_log_resized_color[:, :, 2]\n",
    "\n",
    "        #Save the spectrograms separately for each colour channel\n",
    "        red_spectrogram_path = os.path.join(spectrogram_dir, file_name.replace('.wav', '_red.npy'))\n",
    "        green_spectrogram_path = os.path.join(spectrogram_dir, file_name.replace('.wav', '_green.npy'))\n",
    "        blue_spectrogram_path = os.path.join(spectrogram_dir, file_name.replace('.wav', '_blue.npy'))\n",
    "\n",
    "        np.save(red_spectrogram_path, red_channel)\n",
    "        np.save(green_spectrogram_path, green_channel)\n",
    "        np.save(blue_spectrogram_path, blue_channel)"
   ]
  }
 ],
 "metadata": {
  "kernelspec": {
   "display_name": "DLPROJ",
   "language": "python",
   "name": "python3"
  },
  "language_info": {
   "codemirror_mode": {
    "name": "ipython",
    "version": 3
   },
   "file_extension": ".py",
   "mimetype": "text/x-python",
   "name": "python",
   "nbconvert_exporter": "python",
   "pygments_lexer": "ipython3",
   "version": "3.11.9"
  }
 },
 "nbformat": 4,
 "nbformat_minor": 2
}

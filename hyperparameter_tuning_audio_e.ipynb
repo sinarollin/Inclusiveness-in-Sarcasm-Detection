{
 "cells": [
  {
   "cell_type": "markdown",
   "metadata": {},
   "source": [
    "# Hyperparameter Tuning Audio Data Embeddings"
   ]
  },
  {
   "cell_type": "code",
   "execution_count": 100,
   "metadata": {},
   "outputs": [],
   "source": [
    "#Importing the necessary libraries\n",
    "from functions_audio_model import *\n",
    "import torch\n",
    "from torch.utils.data import Dataset, DataLoader, random_split\n",
    "import numpy as np\n",
    "import os\n",
    "import json\n",
    "import tensorflow as tf\n",
    "import shutil\n",
    "from tensorflow.keras.applications import MobileNetV2\n",
    "from tensorflow.keras.layers import Dense, GlobalAveragePooling2D\n",
    "from tensorflow.keras.models import Model\n",
    "from tensorflow.keras.optimizers import Adam\n",
    "from tensorflow.keras.losses import SparseCategoricalCrossentropy\n",
    "from tensorflow.keras.metrics import SparseCategoricalAccuracy, Mean\n",
    "from sklearn.model_selection import ParameterGrid\n",
    "from torch import nn\n",
    "from torch.utils.data import DataLoader, random_split\n",
    "from scipy.ndimage import zoom\n",
    "from torch.utils.data import Dataset\n",
    "import torchaudio\n",
    "import matplotlib.pyplot as plt\n"
   ]
  },
  {
   "cell_type": "markdown",
   "metadata": {},
   "source": [
    "Female Model Hyperparameter Tuning"
   ]
  },
  {
   "cell_type": "code",
   "execution_count": 2,
   "metadata": {},
   "outputs": [],
   "source": [
    "class EmbeddingDataset(Dataset):\n",
    "    def __init__(self, embedding_dir, labels):\n",
    "        self.embedding_dir = embedding_dir\n",
    "        self.file_list = [f for f in os.listdir(embedding_dir) if f.endswith('_w2V2.npy')]\n",
    "        self.labels = labels\n",
    "\n",
    "    def __len__(self):\n",
    "        return len(self.file_list)\n",
    "\n",
    "    def __getitem__(self, idx):\n",
    "        #to get the base name of the file\n",
    "        base_name = self.file_list[idx].replace('_w2V2.npy', '')\n",
    "\n",
    "        embedding = np.load(os.path.join(self.embedding_dir, base_name + '_w2V2.npy'))\n",
    "    \n",
    "        #label\n",
    "        label = self.labels[base_name]\n",
    "        #embedding\n",
    "        embedding = torch.mean(torch.from_numpy(embedding), dim=1)\n",
    "        \n",
    "        return embedding, label"
   ]
  },
  {
   "cell_type": "code",
   "execution_count": 41,
   "metadata": {},
   "outputs": [],
   "source": [
    "with open('data/audio/embeddingsF_sets/labels_F_val.json', 'r') as file:\n",
    "    labelsF_val = json.load(file)\n",
    "\n",
    "with open('data/audio/embeddingsF_sets/labels_F_train.json', 'r') as file:\n",
    "    labelsF_train = json.load(file)\n",
    "\n",
    "\n",
    "\n",
    "embeddings_train = 'data/audio/embeddingsF_sets/F_train_set/'\n",
    "embeddings_val = 'data/audio/embeddingsF_sets/F_val_set/'\n",
    "\n",
    "\n",
    "# Define the datasets\n",
    "train_datasetF = EmbeddingDataset(embeddings_train, labelsF_train)\n",
    "val_datasetF = EmbeddingDataset(embeddings_val, labelsF_val)"
   ]
  },
  {
   "cell_type": "code",
   "execution_count": 5,
   "metadata": {},
   "outputs": [],
   "source": [
    "#Classifier HEAD\n",
    "class Classifier(nn.Module):\n",
    "    def __init__(self, num_classes, in_features):\n",
    "        super(Classifier, self).__init__()\n",
    "        #Linear Layer\n",
    "        self.linear = nn.Linear(in_features, num_classes)\n",
    "    \n",
    "    def forward(self, x):\n",
    "        out = self.linear(x)\n",
    "        return out"
   ]
  },
  {
   "cell_type": "code",
   "execution_count": null,
   "metadata": {},
   "outputs": [],
   "source": [
    "# Seed for reproducibility\n",
    "torch.manual_seed(42)\n",
    "\n",
    "# Set device\n",
    "device = torch.device(\"cuda\" if torch.cuda.is_available() else \"cpu\")\n",
    "\n",
    "\n",
    "param_grid = {'learning_rate': [0.1, 0.01, 0.001, 0.0001, 0.00001],\n",
    "              'batchsize': [4, 8, 16, 32, 64],\n",
    "              'N_EPOCHS': [20, 30, 40, 50]}\n",
    "\n",
    "\n",
    "# Store the results\n",
    "results = []\n",
    "\n",
    "\n",
    "# Create a parameter grid\n",
    "grid = ParameterGrid(param_grid)\n",
    "\n",
    "for params in grid:\n",
    "\n",
    "    # Create the DataLoaders\n",
    "    train_dataloader = DataLoader(train_datasetF, batch_size=params['batchsize'])\n",
    "    val_dataloader = DataLoader(val_datasetF, batch_size=params['batchsize'])\n",
    "\n",
    "\n",
    "    #Define the loss function\n",
    "    criterion = nn.CrossEntropyLoss()\n",
    "\n",
    "    #metrics\n",
    "    metrics = {'ACC': acc, 'F1-weighted': f1}\n",
    "\n",
    "    #Definition of the Model HEAD\n",
    "    #number of features of last layer Wav2Vec2\n",
    "    num_ftrs = 768\n",
    "\n",
    "    #Binary Classification -> Sarcasm or not\n",
    "    num_classes = 2 \n",
    "\n",
    "    model_head = Classifier(num_classes, num_ftrs)\n",
    "\n",
    "    # Create the optimizer\n",
    "    optimizer = torch.optim.AdamW(model_head.parameters(), lr=params['learning_rate'])\n",
    "\n",
    "    # Train the model\n",
    "    train_metrics_log, test_metrics_log = train_cycle(model_head, optimizer, criterion, metrics, train_dataloader, val_dataloader, n_epochs=params['N_EPOCHS'], device=device)\n",
    "\n",
    "    # Store the results\n",
    "    results.append({\n",
    "        'lr': params['learning_rate'],\n",
    "        'batch_size': params['batchsize'],\n",
    "        'num_epochs': params['N_EPOCHS'],\n",
    "        'eval_loss': test_metrics_log[1][-1],\n",
    "        'eval_acc': test_metrics_log[0][-1]\n",
    "        })\n",
    "\n",
    "\n",
    "#Save the results to a JSON file\n",
    "results_path = 'results/audio_hyperparameters_F.json'\n",
    "os.makedirs(os.path.dirname(results_path), exist_ok=True)\n",
    "\n",
    "with open(results_path, 'w') as f:\n",
    "    json.dump(results, f, indent=4)"
   ]
  },
  {
   "cell_type": "code",
   "execution_count": 51,
   "metadata": {},
   "outputs": [
    {
     "name": "stdout",
     "output_type": "stream",
     "text": [
      "Epoch 0 of 20\n"
     ]
    },
    {
     "name": "stderr",
     "output_type": "stream",
     "text": [
      "  0%|          | 0/9 [00:00<?, ?it/s]"
     ]
    },
    {
     "name": "stderr",
     "output_type": "stream",
     "text": [
      "100%|██████████| 9/9 [00:00<00:00, 11.34it/s]\n"
     ]
    },
    {
     "name": "stdout",
     "output_type": "stream",
     "text": [
      "train Loss: 0.7074,  ACC: 0.4749, F1-weighted: 0.3249\n"
     ]
    },
    {
     "name": "stderr",
     "output_type": "stream",
     "text": [
      "100%|██████████| 2/2 [00:00<00:00,  8.90it/s]\n"
     ]
    },
    {
     "name": "stdout",
     "output_type": "stream",
     "text": [
      "eval Loss: 0.6757,  ACC: 0.5000, F1-weighted: 0.3322\n",
      "Epoch 1 of 20\n"
     ]
    },
    {
     "name": "stderr",
     "output_type": "stream",
     "text": [
      "100%|██████████| 9/9 [00:00<00:00, 34.13it/s]\n"
     ]
    },
    {
     "name": "stdout",
     "output_type": "stream",
     "text": [
      "train Loss: 0.6495,  ACC: 0.6501, F1-weighted: 0.5830\n"
     ]
    },
    {
     "name": "stderr",
     "output_type": "stream",
     "text": [
      "100%|██████████| 2/2 [00:00<00:00, 24.83it/s]\n"
     ]
    },
    {
     "name": "stdout",
     "output_type": "stream",
     "text": [
      "eval Loss: 0.6412,  ACC: 0.7188, F1-weighted: 0.7108\n",
      "Epoch 2 of 20\n"
     ]
    },
    {
     "name": "stderr",
     "output_type": "stream",
     "text": [
      "100%|██████████| 9/9 [00:00<00:00, 39.36it/s]\n"
     ]
    },
    {
     "name": "stdout",
     "output_type": "stream",
     "text": [
      "train Loss: 0.6164,  ACC: 0.7404, F1-weighted: 0.7214\n"
     ]
    },
    {
     "name": "stderr",
     "output_type": "stream",
     "text": [
      "100%|██████████| 2/2 [00:00<00:00, 26.38it/s]\n"
     ]
    },
    {
     "name": "stdout",
     "output_type": "stream",
     "text": [
      "eval Loss: 0.6159,  ACC: 0.7188, F1-weighted: 0.7124\n",
      "Epoch 3 of 20\n"
     ]
    },
    {
     "name": "stderr",
     "output_type": "stream",
     "text": [
      "100%|██████████| 9/9 [00:00<00:00, 41.25it/s]\n"
     ]
    },
    {
     "name": "stdout",
     "output_type": "stream",
     "text": [
      "train Loss: 0.5913,  ACC: 0.7334, F1-weighted: 0.7163\n"
     ]
    },
    {
     "name": "stderr",
     "output_type": "stream",
     "text": [
      "100%|██████████| 2/2 [00:00<00:00, 16.93it/s]\n"
     ]
    },
    {
     "name": "stdout",
     "output_type": "stream",
     "text": [
      "eval Loss: 0.5960,  ACC: 0.7188, F1-weighted: 0.7124\n",
      "Epoch 4 of 20\n"
     ]
    },
    {
     "name": "stderr",
     "output_type": "stream",
     "text": [
      "100%|██████████| 9/9 [00:00<00:00, 29.86it/s]\n"
     ]
    },
    {
     "name": "stdout",
     "output_type": "stream",
     "text": [
      "train Loss: 0.5706,  ACC: 0.7404, F1-weighted: 0.7218\n"
     ]
    },
    {
     "name": "stderr",
     "output_type": "stream",
     "text": [
      "100%|██████████| 2/2 [00:00<00:00, 18.15it/s]\n"
     ]
    },
    {
     "name": "stdout",
     "output_type": "stream",
     "text": [
      "eval Loss: 0.5806,  ACC: 0.7188, F1-weighted: 0.7124\n",
      "Epoch 5 of 20\n"
     ]
    },
    {
     "name": "stderr",
     "output_type": "stream",
     "text": [
      "100%|██████████| 9/9 [00:00<00:00, 21.56it/s]\n"
     ]
    },
    {
     "name": "stdout",
     "output_type": "stream",
     "text": [
      "train Loss: 0.5541,  ACC: 0.7404, F1-weighted: 0.7218\n"
     ]
    },
    {
     "name": "stderr",
     "output_type": "stream",
     "text": [
      "100%|██████████| 2/2 [00:00<00:00, 16.79it/s]\n"
     ]
    },
    {
     "name": "stdout",
     "output_type": "stream",
     "text": [
      "eval Loss: 0.5681,  ACC: 0.7188, F1-weighted: 0.7124\n",
      "Epoch 6 of 20\n"
     ]
    },
    {
     "name": "stderr",
     "output_type": "stream",
     "text": [
      "100%|██████████| 9/9 [00:00<00:00, 32.16it/s]\n"
     ]
    },
    {
     "name": "stdout",
     "output_type": "stream",
     "text": [
      "train Loss: 0.5413,  ACC: 0.7404, F1-weighted: 0.7218\n"
     ]
    },
    {
     "name": "stderr",
     "output_type": "stream",
     "text": [
      "100%|██████████| 2/2 [00:00<00:00, 18.29it/s]\n"
     ]
    },
    {
     "name": "stdout",
     "output_type": "stream",
     "text": [
      "eval Loss: 0.5579,  ACC: 0.7188, F1-weighted: 0.7124\n",
      "Epoch 7 of 20\n"
     ]
    },
    {
     "name": "stderr",
     "output_type": "stream",
     "text": [
      "100%|██████████| 9/9 [00:00<00:00, 31.19it/s]\n"
     ]
    },
    {
     "name": "stdout",
     "output_type": "stream",
     "text": [
      "train Loss: 0.5315,  ACC: 0.7473, F1-weighted: 0.7289\n"
     ]
    },
    {
     "name": "stderr",
     "output_type": "stream",
     "text": [
      "100%|██████████| 2/2 [00:00<00:00, 20.57it/s]\n"
     ]
    },
    {
     "name": "stdout",
     "output_type": "stream",
     "text": [
      "eval Loss: 0.5495,  ACC: 0.7188, F1-weighted: 0.7124\n",
      "Epoch 8 of 20\n"
     ]
    },
    {
     "name": "stderr",
     "output_type": "stream",
     "text": [
      "100%|██████████| 9/9 [00:00<00:00, 38.45it/s]\n"
     ]
    },
    {
     "name": "stdout",
     "output_type": "stream",
     "text": [
      "train Loss: 0.5238,  ACC: 0.7559, F1-weighted: 0.7359\n"
     ]
    },
    {
     "name": "stderr",
     "output_type": "stream",
     "text": [
      "100%|██████████| 2/2 [00:00<00:00, 22.82it/s]\n"
     ]
    },
    {
     "name": "stdout",
     "output_type": "stream",
     "text": [
      "eval Loss: 0.5427,  ACC: 0.7188, F1-weighted: 0.7124\n",
      "Epoch 9 of 20\n"
     ]
    },
    {
     "name": "stderr",
     "output_type": "stream",
     "text": [
      "100%|██████████| 9/9 [00:00<00:00, 45.96it/s]\n"
     ]
    },
    {
     "name": "stdout",
     "output_type": "stream",
     "text": [
      "train Loss: 0.5174,  ACC: 0.7489, F1-weighted: 0.7284\n"
     ]
    },
    {
     "name": "stderr",
     "output_type": "stream",
     "text": [
      "100%|██████████| 2/2 [00:00<00:00, 28.86it/s]\n"
     ]
    },
    {
     "name": "stdout",
     "output_type": "stream",
     "text": [
      "eval Loss: 0.5371,  ACC: 0.7188, F1-weighted: 0.7124\n",
      "Epoch 10 of 20\n"
     ]
    },
    {
     "name": "stderr",
     "output_type": "stream",
     "text": [
      "100%|██████████| 9/9 [00:00<00:00, 36.23it/s]\n"
     ]
    },
    {
     "name": "stdout",
     "output_type": "stream",
     "text": [
      "train Loss: 0.5119,  ACC: 0.7489, F1-weighted: 0.7284\n"
     ]
    },
    {
     "name": "stderr",
     "output_type": "stream",
     "text": [
      "100%|██████████| 2/2 [00:00<00:00, 23.44it/s]\n"
     ]
    },
    {
     "name": "stdout",
     "output_type": "stream",
     "text": [
      "eval Loss: 0.5323,  ACC: 0.7500, F1-weighted: 0.7460\n",
      "Epoch 11 of 20\n"
     ]
    },
    {
     "name": "stderr",
     "output_type": "stream",
     "text": [
      "100%|██████████| 9/9 [00:00<00:00, 31.62it/s]\n"
     ]
    },
    {
     "name": "stdout",
     "output_type": "stream",
     "text": [
      "train Loss: 0.5071,  ACC: 0.7559, F1-weighted: 0.7350\n"
     ]
    },
    {
     "name": "stderr",
     "output_type": "stream",
     "text": [
      "100%|██████████| 2/2 [00:00<00:00, 20.34it/s]\n"
     ]
    },
    {
     "name": "stdout",
     "output_type": "stream",
     "text": [
      "eval Loss: 0.5282,  ACC: 0.7500, F1-weighted: 0.7460\n",
      "Epoch 12 of 20\n"
     ]
    },
    {
     "name": "stderr",
     "output_type": "stream",
     "text": [
      "100%|██████████| 9/9 [00:00<00:00, 25.98it/s]\n"
     ]
    },
    {
     "name": "stdout",
     "output_type": "stream",
     "text": [
      "train Loss: 0.5029,  ACC: 0.7628, F1-weighted: 0.7418\n"
     ]
    },
    {
     "name": "stderr",
     "output_type": "stream",
     "text": [
      "100%|██████████| 2/2 [00:00<00:00, 35.55it/s]\n"
     ]
    },
    {
     "name": "stdout",
     "output_type": "stream",
     "text": [
      "eval Loss: 0.5246,  ACC: 0.7500, F1-weighted: 0.7460\n",
      "Epoch 13 of 20\n"
     ]
    },
    {
     "name": "stderr",
     "output_type": "stream",
     "text": [
      "100%|██████████| 9/9 [00:00<00:00, 19.04it/s]\n"
     ]
    },
    {
     "name": "stdout",
     "output_type": "stream",
     "text": [
      "train Loss: 0.4991,  ACC: 0.7628, F1-weighted: 0.7418\n"
     ]
    },
    {
     "name": "stderr",
     "output_type": "stream",
     "text": [
      "100%|██████████| 2/2 [00:00<00:00, 16.29it/s]\n"
     ]
    },
    {
     "name": "stdout",
     "output_type": "stream",
     "text": [
      "eval Loss: 0.5215,  ACC: 0.7500, F1-weighted: 0.7460\n",
      "Epoch 14 of 20\n"
     ]
    },
    {
     "name": "stderr",
     "output_type": "stream",
     "text": [
      "100%|██████████| 9/9 [00:00<00:00, 29.89it/s]\n"
     ]
    },
    {
     "name": "stdout",
     "output_type": "stream",
     "text": [
      "train Loss: 0.4957,  ACC: 0.7628, F1-weighted: 0.7418\n"
     ]
    },
    {
     "name": "stderr",
     "output_type": "stream",
     "text": [
      "100%|██████████| 2/2 [00:00<00:00, 20.49it/s]\n"
     ]
    },
    {
     "name": "stdout",
     "output_type": "stream",
     "text": [
      "eval Loss: 0.5188,  ACC: 0.7812, F1-weighted: 0.7782\n",
      "Epoch 15 of 20\n"
     ]
    },
    {
     "name": "stderr",
     "output_type": "stream",
     "text": [
      "100%|██████████| 9/9 [00:00<00:00, 35.71it/s]\n"
     ]
    },
    {
     "name": "stdout",
     "output_type": "stream",
     "text": [
      "train Loss: 0.4925,  ACC: 0.7628, F1-weighted: 0.7418\n"
     ]
    },
    {
     "name": "stderr",
     "output_type": "stream",
     "text": [
      "100%|██████████| 2/2 [00:00<00:00, 23.69it/s]\n"
     ]
    },
    {
     "name": "stdout",
     "output_type": "stream",
     "text": [
      "eval Loss: 0.5164,  ACC: 0.7812, F1-weighted: 0.7782\n",
      "Epoch 16 of 20\n"
     ]
    },
    {
     "name": "stderr",
     "output_type": "stream",
     "text": [
      "100%|██████████| 9/9 [00:00<00:00, 44.87it/s]\n"
     ]
    },
    {
     "name": "stdout",
     "output_type": "stream",
     "text": [
      "train Loss: 0.4896,  ACC: 0.7698, F1-weighted: 0.7492\n"
     ]
    },
    {
     "name": "stderr",
     "output_type": "stream",
     "text": [
      "100%|██████████| 2/2 [00:00<00:00, 23.78it/s]\n"
     ]
    },
    {
     "name": "stdout",
     "output_type": "stream",
     "text": [
      "eval Loss: 0.5142,  ACC: 0.7812, F1-weighted: 0.7782\n",
      "Epoch 17 of 20\n"
     ]
    },
    {
     "name": "stderr",
     "output_type": "stream",
     "text": [
      "100%|██████████| 9/9 [00:00<00:00, 44.85it/s]\n"
     ]
    },
    {
     "name": "stdout",
     "output_type": "stream",
     "text": [
      "train Loss: 0.4868,  ACC: 0.7698, F1-weighted: 0.7492\n"
     ]
    },
    {
     "name": "stderr",
     "output_type": "stream",
     "text": [
      "100%|██████████| 2/2 [00:00<00:00, 62.16it/s]\n"
     ]
    },
    {
     "name": "stdout",
     "output_type": "stream",
     "text": [
      "eval Loss: 0.5123,  ACC: 0.7812, F1-weighted: 0.7782\n",
      "Epoch 18 of 20\n"
     ]
    },
    {
     "name": "stderr",
     "output_type": "stream",
     "text": [
      "100%|██████████| 9/9 [00:00<00:00, 41.63it/s]\n"
     ]
    },
    {
     "name": "stdout",
     "output_type": "stream",
     "text": [
      "train Loss: 0.4842,  ACC: 0.7698, F1-weighted: 0.7492\n"
     ]
    },
    {
     "name": "stderr",
     "output_type": "stream",
     "text": [
      "100%|██████████| 2/2 [00:00<00:00, 36.54it/s]\n"
     ]
    },
    {
     "name": "stdout",
     "output_type": "stream",
     "text": [
      "eval Loss: 0.5106,  ACC: 0.7812, F1-weighted: 0.7782\n",
      "Epoch 19 of 20\n"
     ]
    },
    {
     "name": "stderr",
     "output_type": "stream",
     "text": [
      "100%|██████████| 9/9 [00:00<00:00, 40.94it/s]\n"
     ]
    },
    {
     "name": "stdout",
     "output_type": "stream",
     "text": [
      "train Loss: 0.4817,  ACC: 0.7698, F1-weighted: 0.7492\n"
     ]
    },
    {
     "name": "stderr",
     "output_type": "stream",
     "text": [
      "100%|██████████| 2/2 [00:00<00:00, 22.98it/s]\n"
     ]
    },
    {
     "name": "stdout",
     "output_type": "stream",
     "text": [
      "eval Loss: 0.5090,  ACC: 0.7812, F1-weighted: 0.7782\n"
     ]
    },
    {
     "data": {
      "image/png": "[encoded data removed]",
      "text/plain": [
       "<Figure size 1500x500 with 3 Axes>"
      ]
     },
     "metadata": {},
     "output_type": "display_data"
    }
   ],
   "source": [
    "#Final Chosen Model Female\n",
    "\n",
    "# Results:\n",
    "# \"lr\": 0.001,\n",
    "#         \"batch_size\": 16,\n",
    "#         \"num_epochs\": 20,\n",
    "#         \"eval_loss\": 0.7781512605042017,\n",
    "#         \"eval_acc\": 0.78125\n",
    "\n",
    "# Hyperparameters Chosen:\n",
    "learning_rate = 0.001\n",
    "batch_size = 16\n",
    "N_EPOCHS = 20\n",
    "\n",
    "\n",
    " # Create the DataLoaders\n",
    "train_dataloader = DataLoader(train_datasetF, batch_size=batch_size)\n",
    "val_dataloader = DataLoader(val_datasetF, batch_size=batch_size)\n",
    "\n",
    "# Seed for reproducibility\n",
    "torch.manual_seed(42)\n",
    "\n",
    "# Set device\n",
    "device = torch.device(\"cuda\" if torch.cuda.is_available() else \"cpu\")\n",
    "\n",
    "#Define the loss function\n",
    "criterion = nn.CrossEntropyLoss()\n",
    "\n",
    "#metrics\n",
    "metrics = {'ACC': acc, 'F1-weighted': f1}\n",
    "\n",
    "#Definition of the Model HEAD\n",
    "#number of features of last layer Wav2Vec2\n",
    "num_ftrs = 768\n",
    "\n",
    "#Binary Classification -> Sarcasm or not\n",
    "num_classes = 2 \n",
    "\n",
    "model_head = Classifier(num_classes, num_ftrs)\n",
    "\n",
    "#Create the optimizer\n",
    "optimizer = torch.optim.AdamW(model_head.parameters(), lr=learning_rate)\n",
    "\n",
    "#Train the model\n",
    "train_metrics_log, test_metrics_log = train_cycle(model_head, optimizer, criterion, metrics, train_dataloader, val_dataloader, n_epochs=N_EPOCHS, device=device)\n",
    "\n",
    "# Save the model weights\n",
    "results_models_weights_dir = 'models_weights/'\n",
    "if not os.path.exists(results_models_weights_dir):\n",
    "    os.mkdir(results_models_weights_dir)\n",
    "torch.save(model_head.state_dict(), results_models_weights_dir + 'audio_model_embeddingsF.pth')\n"
   ]
  },
  {
   "cell_type": "code",
   "execution_count": 52,
   "metadata": {},
   "outputs": [
    {
     "name": "stderr",
     "output_type": "stream",
     "text": [
      "100%|██████████| 2/2 [00:00<00:00,  9.60it/s]"
     ]
    },
    {
     "name": "stdout",
     "output_type": "stream",
     "text": [
      "eval Loss: 0.4282,  ACC: 0.8304, F1-weighted: 0.8288\n",
      "Test loss: 0.42815548181533813\n",
      "Test metrics: {'ACC': 0.8303571428571428, 'F1-weighted': 0.8288156288156289}\n"
     ]
    },
    {
     "name": "stderr",
     "output_type": "stream",
     "text": [
      "\n"
     ]
    }
   ],
   "source": [
    "#Test Set Female for Chosen Model\n",
    "\n",
    "with open('data/audio/embeddingsF_sets/labels_F_test.json', 'r') as file:\n",
    "    labelsF_test = json.load(file)\n",
    "\n",
    "embeddings_test = 'data/audio/embeddingsF_sets/F_test_set/'\n",
    "\n",
    "test_datasetF = EmbeddingDataset(embeddings_test, labelsF_test)\n",
    "\n",
    "# Create the test DataLoader\n",
    "test_dataloader = DataLoader(test_datasetF, batch_size=batch_size)\n",
    "\n",
    "# Evaluate the model on the test set\n",
    "test_loss, test_metrics = evaluate(model_head, criterion, metrics, test_dataloader, device)\n",
    "\n",
    "# Print the test loss and metrics\n",
    "print('Test loss:', test_loss)\n",
    "print('Test metrics:', test_metrics)"
   ]
  },
  {
   "cell_type": "code",
   "execution_count": null,
   "metadata": {},
   "outputs": [],
   "source": []
  },
  {
   "cell_type": "markdown",
   "metadata": {},
   "source": [
    "Male Model Hyperparameter Tuning"
   ]
  },
  {
   "cell_type": "code",
   "execution_count": 43,
   "metadata": {},
   "outputs": [],
   "source": [
    "with open('data/audio/embeddingsM_sets/labels_M_val.json', 'r') as file:\n",
    "    labelsM_val = json.load(file)\n",
    "\n",
    "with open('data/audio/embeddingsM_sets/labels_M_train.json', 'r') as file:\n",
    "    labelsM_train = json.load(file)\n",
    "\n",
    "\n",
    "\n",
    "embeddings_train_M = 'data/audio/embeddingsM_sets/M_train_set/'\n",
    "embeddings_val_M = 'data/audio/embeddingsM_sets/M_val_set/'\n",
    "\n",
    "\n",
    "# Define the datasets\n",
    "train_datasetM = EmbeddingDataset(embeddings_train_M, labelsM_train)\n",
    "val_datasetM = EmbeddingDataset(embeddings_val_M, labelsM_val)"
   ]
  },
  {
   "cell_type": "code",
   "execution_count": null,
   "metadata": {},
   "outputs": [],
   "source": [
    "# Seed for reproducibility\n",
    "torch.manual_seed(42)\n",
    "\n",
    "# Set device\n",
    "device = torch.device(\"cuda\" if torch.cuda.is_available() else \"cpu\")\n",
    "\n",
    "\n",
    "param_grid = {'learning_rate': [0.01, 0.001, 0.0001, 0.00001],\n",
    "              'batchsize': [8, 16, 32, 64],\n",
    "              'N_EPOCHS': [20, 30, 40]}\n",
    "\n",
    "\n",
    "# Store the results\n",
    "results = []\n",
    "\n",
    "\n",
    "# Create a parameter grid\n",
    "grid = ParameterGrid(param_grid)\n",
    "\n",
    "for params in grid:\n",
    "\n",
    "    # Create the DataLoaders\n",
    "    train_dataloader = DataLoader(train_datasetM, batch_size=params['batchsize'])\n",
    "    val_dataloader = DataLoader(val_datasetM, batch_size=params['batchsize'])\n",
    "\n",
    "\n",
    "    #Define the loss function\n",
    "    criterion = nn.CrossEntropyLoss()\n",
    "\n",
    "    #metrics\n",
    "    metrics = {'ACC': acc, 'F1-weighted': f1}\n",
    "\n",
    "    #Definition of the Model HEAD\n",
    "    #number of features of last layer Wav2Vec2\n",
    "    num_ftrs = 768\n",
    "\n",
    "    #Binary Classification -> Sarcasm or not\n",
    "    num_classes = 2 \n",
    "\n",
    "    model_head = Classifier(num_classes, num_ftrs)\n",
    "\n",
    "    # Create the optimizer\n",
    "    optimizer = torch.optim.AdamW(model_head.parameters(), lr=params['learning_rate'])\n",
    "\n",
    "    # Train the model\n",
    "    train_metrics_log, test_metrics_log = train_cycle(model_head, optimizer, criterion, metrics, train_dataloader, val_dataloader, n_epochs=params['N_EPOCHS'], device=device)\n",
    "\n",
    "    # Store the results\n",
    "    results.append({\n",
    "        'lr': params['learning_rate'],\n",
    "        'batch_size': params['batchsize'],\n",
    "        'num_epochs': params['N_EPOCHS'],\n",
    "        'eval_loss': test_metrics_log[1][-1],         \n",
    "        'eval_acc': test_metrics_log[0][-1]\n",
    "        })\n",
    "\n",
    "\n",
    "#Save the results to a JSON file\n",
    "results_path = 'results/audio_hyperparameters_M.json'\n",
    "os.makedirs(os.path.dirname(results_path), exist_ok=True)\n",
    "\n",
    "with open(results_path, 'w') as f:\n",
    "    json.dump(results, f, indent=4)"
   ]
  },
  {
   "cell_type": "code",
   "execution_count": 53,
   "metadata": {},
   "outputs": [
    {
     "name": "stdout",
     "output_type": "stream",
     "text": [
      "Epoch 0 of 24\n"
     ]
    },
    {
     "name": "stderr",
     "output_type": "stream",
     "text": [
      "100%|██████████| 39/39 [00:02<00:00, 15.28it/s]\n"
     ]
    },
    {
     "name": "stdout",
     "output_type": "stream",
     "text": [
      "train Loss: 0.6853,  ACC: 0.5353, F1-weighted: 0.4377\n"
     ]
    },
    {
     "name": "stderr",
     "output_type": "stream",
     "text": [
      "100%|██████████| 9/9 [00:00<00:00, 24.83it/s]\n"
     ]
    },
    {
     "name": "stdout",
     "output_type": "stream",
     "text": [
      "eval Loss: 0.6600,  ACC: 0.6250, F1-weighted: 0.5380\n",
      "Epoch 1 of 24\n"
     ]
    },
    {
     "name": "stderr",
     "output_type": "stream",
     "text": [
      "100%|██████████| 39/39 [00:03<00:00, 12.63it/s]\n"
     ]
    },
    {
     "name": "stdout",
     "output_type": "stream",
     "text": [
      "train Loss: 0.6574,  ACC: 0.6314, F1-weighted: 0.5921\n"
     ]
    },
    {
     "name": "stderr",
     "output_type": "stream",
     "text": [
      "100%|██████████| 9/9 [00:00<00:00, 12.20it/s]\n"
     ]
    },
    {
     "name": "stdout",
     "output_type": "stream",
     "text": [
      "eval Loss: 0.6383,  ACC: 0.6667, F1-weighted: 0.5747\n",
      "Epoch 2 of 24\n"
     ]
    },
    {
     "name": "stderr",
     "output_type": "stream",
     "text": [
      "100%|██████████| 39/39 [00:00<00:00, 41.03it/s]\n"
     ]
    },
    {
     "name": "stdout",
     "output_type": "stream",
     "text": [
      "train Loss: 0.6380,  ACC: 0.6410, F1-weighted: 0.6066\n"
     ]
    },
    {
     "name": "stderr",
     "output_type": "stream",
     "text": [
      "100%|██████████| 9/9 [00:00<00:00, 59.14it/s]\n"
     ]
    },
    {
     "name": "stdout",
     "output_type": "stream",
     "text": [
      "eval Loss: 0.6202,  ACC: 0.7083, F1-weighted: 0.6301\n",
      "Epoch 3 of 24\n"
     ]
    },
    {
     "name": "stderr",
     "output_type": "stream",
     "text": [
      "100%|██████████| 39/39 [00:01<00:00, 20.67it/s]\n"
     ]
    },
    {
     "name": "stdout",
     "output_type": "stream",
     "text": [
      "train Loss: 0.6226,  ACC: 0.6635, F1-weighted: 0.6337\n"
     ]
    },
    {
     "name": "stderr",
     "output_type": "stream",
     "text": [
      "100%|██████████| 9/9 [00:00<00:00, 21.46it/s]\n"
     ]
    },
    {
     "name": "stdout",
     "output_type": "stream",
     "text": [
      "eval Loss: 0.6051,  ACC: 0.7361, F1-weighted: 0.6659\n",
      "Epoch 4 of 24\n"
     ]
    },
    {
     "name": "stderr",
     "output_type": "stream",
     "text": [
      "100%|██████████| 39/39 [00:00<00:00, 41.20it/s]\n"
     ]
    },
    {
     "name": "stdout",
     "output_type": "stream",
     "text": [
      "train Loss: 0.6096,  ACC: 0.6827, F1-weighted: 0.6469\n"
     ]
    },
    {
     "name": "stderr",
     "output_type": "stream",
     "text": [
      "100%|██████████| 9/9 [00:00<00:00, 28.13it/s]\n"
     ]
    },
    {
     "name": "stdout",
     "output_type": "stream",
     "text": [
      "eval Loss: 0.5920,  ACC: 0.7361, F1-weighted: 0.6659\n",
      "Epoch 5 of 24\n"
     ]
    },
    {
     "name": "stderr",
     "output_type": "stream",
     "text": [
      "100%|██████████| 39/39 [00:00<00:00, 56.85it/s]\n"
     ]
    },
    {
     "name": "stdout",
     "output_type": "stream",
     "text": [
      "train Loss: 0.5983,  ACC: 0.6891, F1-weighted: 0.6532\n"
     ]
    },
    {
     "name": "stderr",
     "output_type": "stream",
     "text": [
      "100%|██████████| 9/9 [00:00<00:00, 15.22it/s]\n"
     ]
    },
    {
     "name": "stdout",
     "output_type": "stream",
     "text": [
      "eval Loss: 0.5806,  ACC: 0.7500, F1-weighted: 0.6847\n",
      "Epoch 6 of 24\n"
     ]
    },
    {
     "name": "stderr",
     "output_type": "stream",
     "text": [
      "100%|██████████| 39/39 [00:01<00:00, 21.25it/s]\n"
     ]
    },
    {
     "name": "stdout",
     "output_type": "stream",
     "text": [
      "train Loss: 0.5883,  ACC: 0.6987, F1-weighted: 0.6623\n"
     ]
    },
    {
     "name": "stderr",
     "output_type": "stream",
     "text": [
      "100%|██████████| 9/9 [00:00<00:00, 19.11it/s]\n"
     ]
    },
    {
     "name": "stdout",
     "output_type": "stream",
     "text": [
      "eval Loss: 0.5705,  ACC: 0.7500, F1-weighted: 0.6847\n",
      "Epoch 7 of 24\n"
     ]
    },
    {
     "name": "stderr",
     "output_type": "stream",
     "text": [
      "100%|██████████| 39/39 [00:02<00:00, 14.66it/s]\n"
     ]
    },
    {
     "name": "stdout",
     "output_type": "stream",
     "text": [
      "train Loss: 0.5793,  ACC: 0.7115, F1-weighted: 0.6751\n"
     ]
    },
    {
     "name": "stderr",
     "output_type": "stream",
     "text": [
      "100%|██████████| 9/9 [00:00<00:00,  9.97it/s]\n"
     ]
    },
    {
     "name": "stdout",
     "output_type": "stream",
     "text": [
      "eval Loss: 0.5616,  ACC: 0.7361, F1-weighted: 0.6692\n",
      "Epoch 8 of 24\n"
     ]
    },
    {
     "name": "stderr",
     "output_type": "stream",
     "text": [
      "100%|██████████| 39/39 [00:02<00:00, 14.58it/s]\n"
     ]
    },
    {
     "name": "stdout",
     "output_type": "stream",
     "text": [
      "train Loss: 0.5712,  ACC: 0.7115, F1-weighted: 0.6740\n"
     ]
    },
    {
     "name": "stderr",
     "output_type": "stream",
     "text": [
      "100%|██████████| 9/9 [00:00<00:00, 45.62it/s]\n"
     ]
    },
    {
     "name": "stdout",
     "output_type": "stream",
     "text": [
      "eval Loss: 0.5536,  ACC: 0.7639, F1-weighted: 0.7327\n",
      "Epoch 9 of 24\n"
     ]
    },
    {
     "name": "stderr",
     "output_type": "stream",
     "text": [
      "100%|██████████| 39/39 [00:00<00:00, 50.97it/s]\n"
     ]
    },
    {
     "name": "stdout",
     "output_type": "stream",
     "text": [
      "train Loss: 0.5639,  ACC: 0.7115, F1-weighted: 0.6740\n"
     ]
    },
    {
     "name": "stderr",
     "output_type": "stream",
     "text": [
      "100%|██████████| 9/9 [00:00<00:00, 63.68it/s]\n"
     ]
    },
    {
     "name": "stdout",
     "output_type": "stream",
     "text": [
      "eval Loss: 0.5466,  ACC: 0.7778, F1-weighted: 0.7482\n",
      "Epoch 10 of 24\n"
     ]
    },
    {
     "name": "stderr",
     "output_type": "stream",
     "text": [
      "100%|██████████| 39/39 [00:00<00:00, 89.71it/s]\n"
     ]
    },
    {
     "name": "stdout",
     "output_type": "stream",
     "text": [
      "train Loss: 0.5571,  ACC: 0.7083, F1-weighted: 0.6728\n"
     ]
    },
    {
     "name": "stderr",
     "output_type": "stream",
     "text": [
      "100%|██████████| 9/9 [00:00<00:00, 56.21it/s]\n"
     ]
    },
    {
     "name": "stdout",
     "output_type": "stream",
     "text": [
      "eval Loss: 0.5403,  ACC: 0.7778, F1-weighted: 0.7482\n",
      "Epoch 11 of 24\n"
     ]
    },
    {
     "name": "stderr",
     "output_type": "stream",
     "text": [
      "100%|██████████| 39/39 [00:00<00:00, 81.16it/s]\n"
     ]
    },
    {
     "name": "stdout",
     "output_type": "stream",
     "text": [
      "train Loss: 0.5509,  ACC: 0.7083, F1-weighted: 0.6745\n"
     ]
    },
    {
     "name": "stderr",
     "output_type": "stream",
     "text": [
      "100%|██████████| 9/9 [00:00<00:00, 63.92it/s]\n"
     ]
    },
    {
     "name": "stdout",
     "output_type": "stream",
     "text": [
      "eval Loss: 0.5347,  ACC: 0.7778, F1-weighted: 0.7482\n",
      "Epoch 12 of 24\n"
     ]
    },
    {
     "name": "stderr",
     "output_type": "stream",
     "text": [
      "100%|██████████| 39/39 [00:00<00:00, 40.73it/s]\n"
     ]
    },
    {
     "name": "stdout",
     "output_type": "stream",
     "text": [
      "train Loss: 0.5452,  ACC: 0.7115, F1-weighted: 0.6793\n"
     ]
    },
    {
     "name": "stderr",
     "output_type": "stream",
     "text": [
      "100%|██████████| 9/9 [00:00<00:00, 30.98it/s]\n"
     ]
    },
    {
     "name": "stdout",
     "output_type": "stream",
     "text": [
      "eval Loss: 0.5296,  ACC: 0.7778, F1-weighted: 0.7482\n",
      "Epoch 13 of 24\n"
     ]
    },
    {
     "name": "stderr",
     "output_type": "stream",
     "text": [
      "100%|██████████| 39/39 [00:01<00:00, 25.64it/s]\n"
     ]
    },
    {
     "name": "stdout",
     "output_type": "stream",
     "text": [
      "train Loss: 0.5398,  ACC: 0.7115, F1-weighted: 0.6793\n"
     ]
    },
    {
     "name": "stderr",
     "output_type": "stream",
     "text": [
      "100%|██████████| 9/9 [00:00<00:00, 57.28it/s]\n"
     ]
    },
    {
     "name": "stdout",
     "output_type": "stream",
     "text": [
      "eval Loss: 0.5251,  ACC: 0.7778, F1-weighted: 0.7482\n",
      "Epoch 14 of 24\n"
     ]
    },
    {
     "name": "stderr",
     "output_type": "stream",
     "text": [
      "100%|██████████| 39/39 [00:01<00:00, 32.82it/s]\n"
     ]
    },
    {
     "name": "stdout",
     "output_type": "stream",
     "text": [
      "train Loss: 0.5348,  ACC: 0.7179, F1-weighted: 0.6856\n"
     ]
    },
    {
     "name": "stderr",
     "output_type": "stream",
     "text": [
      "100%|██████████| 9/9 [00:00<00:00, 11.60it/s]\n"
     ]
    },
    {
     "name": "stdout",
     "output_type": "stream",
     "text": [
      "eval Loss: 0.5209,  ACC: 0.7778, F1-weighted: 0.7482\n",
      "Epoch 15 of 24\n"
     ]
    },
    {
     "name": "stderr",
     "output_type": "stream",
     "text": [
      "100%|██████████| 39/39 [00:01<00:00, 21.93it/s]\n"
     ]
    },
    {
     "name": "stdout",
     "output_type": "stream",
     "text": [
      "train Loss: 0.5302,  ACC: 0.7212, F1-weighted: 0.6885\n"
     ]
    },
    {
     "name": "stderr",
     "output_type": "stream",
     "text": [
      "100%|██████████| 9/9 [00:00<00:00, 55.51it/s]\n"
     ]
    },
    {
     "name": "stdout",
     "output_type": "stream",
     "text": [
      "eval Loss: 0.5172,  ACC: 0.7778, F1-weighted: 0.7482\n",
      "Epoch 16 of 24\n"
     ]
    },
    {
     "name": "stderr",
     "output_type": "stream",
     "text": [
      "100%|██████████| 39/39 [00:01<00:00, 35.75it/s]\n"
     ]
    },
    {
     "name": "stdout",
     "output_type": "stream",
     "text": [
      "train Loss: 0.5258,  ACC: 0.7244, F1-weighted: 0.6916\n"
     ]
    },
    {
     "name": "stderr",
     "output_type": "stream",
     "text": [
      "100%|██████████| 9/9 [00:00<00:00, 79.61it/s]\n"
     ]
    },
    {
     "name": "stdout",
     "output_type": "stream",
     "text": [
      "eval Loss: 0.5138,  ACC: 0.7778, F1-weighted: 0.7482\n",
      "Epoch 17 of 24\n"
     ]
    },
    {
     "name": "stderr",
     "output_type": "stream",
     "text": [
      "100%|██████████| 39/39 [00:01<00:00, 25.49it/s]\n"
     ]
    },
    {
     "name": "stdout",
     "output_type": "stream",
     "text": [
      "train Loss: 0.5216,  ACC: 0.7340, F1-weighted: 0.7017\n"
     ]
    },
    {
     "name": "stderr",
     "output_type": "stream",
     "text": [
      "100%|██████████| 9/9 [00:00<00:00, 29.20it/s]\n"
     ]
    },
    {
     "name": "stdout",
     "output_type": "stream",
     "text": [
      "eval Loss: 0.5108,  ACC: 0.7917, F1-weighted: 0.7597\n",
      "Epoch 18 of 24\n"
     ]
    },
    {
     "name": "stderr",
     "output_type": "stream",
     "text": [
      "100%|██████████| 39/39 [00:00<00:00, 66.96it/s]\n"
     ]
    },
    {
     "name": "stdout",
     "output_type": "stream",
     "text": [
      "train Loss: 0.5177,  ACC: 0.7436, F1-weighted: 0.7130\n"
     ]
    },
    {
     "name": "stderr",
     "output_type": "stream",
     "text": [
      "100%|██████████| 9/9 [00:00<00:00, 54.26it/s]\n"
     ]
    },
    {
     "name": "stdout",
     "output_type": "stream",
     "text": [
      "eval Loss: 0.5080,  ACC: 0.7917, F1-weighted: 0.7597\n",
      "Epoch 19 of 24\n"
     ]
    },
    {
     "name": "stderr",
     "output_type": "stream",
     "text": [
      "100%|██████████| 39/39 [00:01<00:00, 33.08it/s]\n"
     ]
    },
    {
     "name": "stdout",
     "output_type": "stream",
     "text": [
      "train Loss: 0.5139,  ACC: 0.7468, F1-weighted: 0.7142\n"
     ]
    },
    {
     "name": "stderr",
     "output_type": "stream",
     "text": [
      "100%|██████████| 9/9 [00:00<00:00, 56.99it/s]\n"
     ]
    },
    {
     "name": "stdout",
     "output_type": "stream",
     "text": [
      "eval Loss: 0.5055,  ACC: 0.7917, F1-weighted: 0.7597\n",
      "Epoch 20 of 24\n"
     ]
    },
    {
     "name": "stderr",
     "output_type": "stream",
     "text": [
      "100%|██████████| 39/39 [00:01<00:00, 32.79it/s]\n"
     ]
    },
    {
     "name": "stdout",
     "output_type": "stream",
     "text": [
      "train Loss: 0.5104,  ACC: 0.7532, F1-weighted: 0.7186\n"
     ]
    },
    {
     "name": "stderr",
     "output_type": "stream",
     "text": [
      "100%|██████████| 9/9 [00:00<00:00, 43.92it/s]\n"
     ]
    },
    {
     "name": "stdout",
     "output_type": "stream",
     "text": [
      "eval Loss: 0.5032,  ACC: 0.7917, F1-weighted: 0.7597\n",
      "Epoch 21 of 24\n"
     ]
    },
    {
     "name": "stderr",
     "output_type": "stream",
     "text": [
      "100%|██████████| 39/39 [00:00<00:00, 68.90it/s]\n"
     ]
    },
    {
     "name": "stdout",
     "output_type": "stream",
     "text": [
      "train Loss: 0.5070,  ACC: 0.7532, F1-weighted: 0.7186\n"
     ]
    },
    {
     "name": "stderr",
     "output_type": "stream",
     "text": [
      "100%|██████████| 9/9 [00:00<00:00, 48.19it/s]\n"
     ]
    },
    {
     "name": "stdout",
     "output_type": "stream",
     "text": [
      "eval Loss: 0.5011,  ACC: 0.8056, F1-weighted: 0.7738\n",
      "Epoch 22 of 24\n"
     ]
    },
    {
     "name": "stderr",
     "output_type": "stream",
     "text": [
      "100%|██████████| 39/39 [00:00<00:00, 78.32it/s]\n"
     ]
    },
    {
     "name": "stdout",
     "output_type": "stream",
     "text": [
      "train Loss: 0.5038,  ACC: 0.7596, F1-weighted: 0.7250\n"
     ]
    },
    {
     "name": "stderr",
     "output_type": "stream",
     "text": [
      "100%|██████████| 9/9 [00:00<00:00, 58.38it/s]\n"
     ]
    },
    {
     "name": "stdout",
     "output_type": "stream",
     "text": [
      "eval Loss: 0.4992,  ACC: 0.8056, F1-weighted: 0.7738\n",
      "Epoch 23 of 24\n"
     ]
    },
    {
     "name": "stderr",
     "output_type": "stream",
     "text": [
      "100%|██████████| 39/39 [00:00<00:00, 78.36it/s]\n"
     ]
    },
    {
     "name": "stdout",
     "output_type": "stream",
     "text": [
      "train Loss: 0.5007,  ACC: 0.7628, F1-weighted: 0.7323\n"
     ]
    },
    {
     "name": "stderr",
     "output_type": "stream",
     "text": [
      "100%|██████████| 9/9 [00:00<00:00, 62.71it/s]\n"
     ]
    },
    {
     "name": "stdout",
     "output_type": "stream",
     "text": [
      "eval Loss: 0.4974,  ACC: 0.8056, F1-weighted: 0.7738\n"
     ]
    },
    {
     "data": {
      "image/png": "[encoded data removed]",
      "text/plain": [
       "<Figure size 1500x500 with 3 Axes>"
      ]
     },
     "metadata": {},
     "output_type": "display_data"
    }
   ],
   "source": [
    "#Final Chosen Model Male\n",
    "\n",
    "# Seed for reproducibility\n",
    "torch.manual_seed(42)\n",
    "\n",
    "#Final Chosen Model Male:\n",
    "    #   \"lr\": 0.001,\n",
    "    #     \"batch_size\": 8,\n",
    "    #     \"num_epochs\": 40,\n",
    "    #     \"eval_loss\": 0.7434978601645269,\n",
    "    #     \"eval_acc\": 0.7777777777777778\n",
    "\n",
    "# Hyperparameters Chosen:\n",
    "learning_rate = 0.001\n",
    "batch_size = 8\n",
    "N_EPOCHS = 24\n",
    "\n",
    "\n",
    " # Create the DataLoaders\n",
    "train_dataloader = DataLoader(train_datasetM, batch_size=batch_size)\n",
    "val_dataloader = DataLoader(val_datasetM, batch_size=batch_size)\n",
    "\n",
    "# Set device\n",
    "device = torch.device(\"cuda\" if torch.cuda.is_available() else \"cpu\")\n",
    "\n",
    "#Define the loss function\n",
    "criterion = nn.CrossEntropyLoss()\n",
    "\n",
    "#metrics\n",
    "metrics = {'ACC': acc, 'F1-weighted': f1}\n",
    "\n",
    "#Definition of the Model HEAD\n",
    "#number of features of last layer Wav2Vec2\n",
    "num_ftrs = 768\n",
    "\n",
    "#Binary Classification -> Sarcasm or not\n",
    "num_classes = 2 \n",
    "\n",
    "model_head = Classifier(num_classes, num_ftrs)\n",
    "\n",
    "#Create the optimizer\n",
    "optimizer = torch.optim.AdamW(model_head.parameters(), lr=learning_rate)\n",
    "\n",
    "#Train the model\n",
    "train_metrics_log, test_metrics_log = train_cycle(model_head, optimizer, criterion, metrics, train_dataloader, val_dataloader, n_epochs=N_EPOCHS, device=device)\n",
    "\n",
    "# Save the model weights\n",
    "results_models_weights_dir = 'models_weights/'\n",
    "if not os.path.exists(results_models_weights_dir):\n",
    "    os.mkdir(results_models_weights_dir)\n",
    "torch.save(model_head.state_dict(), results_models_weights_dir + 'audio_model_embeddingsM.pth')\n"
   ]
  },
  {
   "cell_type": "code",
   "execution_count": 54,
   "metadata": {},
   "outputs": [
    {
     "name": "stderr",
     "output_type": "stream",
     "text": [
      "100%|██████████| 9/9 [00:00<00:00, 29.75it/s]"
     ]
    },
    {
     "name": "stdout",
     "output_type": "stream",
     "text": [
      "eval Loss: 0.4923,  ACC: 0.7639, F1-weighted: 0.7539\n",
      "Test loss: 0.49226992660098606\n",
      "Test metrics: {'ACC': 0.7638888888888888, 'F1-weighted': 0.7538560205226872}\n"
     ]
    },
    {
     "name": "stderr",
     "output_type": "stream",
     "text": [
      "\n"
     ]
    }
   ],
   "source": [
    "#Test Set Male for Chosen Model\n",
    "\n",
    "with open('data/audio/embeddingsM_sets/labels_M_test.json', 'r') as file:\n",
    "    labelsM_test = json.load(file)\n",
    "\n",
    "embeddings_test = 'data/audio/embeddingsM_sets/M_test_set/'\n",
    "\n",
    "test_datasetM = EmbeddingDataset(embeddings_test, labelsM_test)\n",
    "\n",
    "# Create the test DataLoader\n",
    "test_dataloader = DataLoader(test_datasetM, batch_size=batch_size)\n",
    "\n",
    "# Evaluate the model on the test set\n",
    "test_loss, test_metrics = evaluate(model_head, criterion, metrics, test_dataloader, device)\n",
    "\n",
    "# Print the test loss and metrics\n",
    "print('Test loss:', test_loss)\n",
    "print('Test metrics:', test_metrics)"
   ]
  },
  {
   "cell_type": "code",
   "execution_count": null,
   "metadata": {},
   "outputs": [],
   "source": []
  },
  {
   "cell_type": "code",
   "execution_count": null,
   "metadata": {},
   "outputs": [],
   "source": []
  },
  {
   "cell_type": "markdown",
   "metadata": {},
   "source": [
    "Mixed Model Hyperparameter Tuning"
   ]
  },
  {
   "cell_type": "code",
   "execution_count": 46,
   "metadata": {},
   "outputs": [],
   "source": [
    "with open('data/audio/embeddingsmixed_sets/labels_mixed_val.json', 'r') as file:\n",
    "    labelsmixed_val = json.load(file)\n",
    "\n",
    "with open('data/audio/embeddingsmixed_sets/labels_mixed_train.json', 'r') as file:\n",
    "    labelsmixed_train = json.load(file)\n",
    "\n",
    "\n",
    "embeddings_train = 'data/audio/embeddingsmixed_sets/mixed_train_set/'\n",
    "embeddings_val = 'data/audio/embeddingsmixed_sets/mixed_val_set/'\n",
    "\n",
    "# Define the datasets\n",
    "train_datasetmixed = EmbeddingDataset(embeddings_train, labelsmixed_train)\n",
    "val_datasetmixed = EmbeddingDataset(embeddings_val, labelsmixed_val)"
   ]
  },
  {
   "cell_type": "code",
   "execution_count": null,
   "metadata": {},
   "outputs": [],
   "source": [
    "# Seed for reproducibility\n",
    "torch.manual_seed(42)\n",
    "\n",
    "# Set device\n",
    "device = torch.device(\"cuda\" if torch.cuda.is_available() else \"cpu\")\n",
    "\n",
    "\n",
    "param_grid = {'learning_rate': [0.01, 0.001, 0.0001, 0.00001],\n",
    "              'batchsize': [8, 16, 32, 64],\n",
    "              'N_EPOCHS': [20, 30, 40]}\n",
    "\n",
    "\n",
    "# Store the results\n",
    "results = []\n",
    "\n",
    "\n",
    "# Create a parameter grid\n",
    "grid = ParameterGrid(param_grid)\n",
    "\n",
    "for params in grid:\n",
    "\n",
    "    # Create the DataLoaders\n",
    "    train_dataloader = DataLoader(train_datasetmixed, batch_size=params['batchsize'])\n",
    "    val_dataloader = DataLoader(val_datasetmixed, batch_size=params['batchsize'])\n",
    "\n",
    "\n",
    "    #Define the loss function\n",
    "    criterion = nn.CrossEntropyLoss()\n",
    "\n",
    "    #metrics\n",
    "    metrics = {'ACC': acc, 'F1-weighted': f1}\n",
    "\n",
    "    #Definition of the Model HEAD\n",
    "    #number of features of last layer Wav2Vec2\n",
    "    num_ftrs = 768\n",
    "\n",
    "    #Binary Classification -> Sarcasm or not\n",
    "    num_classes = 2 \n",
    "\n",
    "    model_head = Classifier(num_classes, num_ftrs)\n",
    "\n",
    "    # Create the optimizer\n",
    "    optimizer = torch.optim.AdamW(model_head.parameters(), lr=params['learning_rate'])\n",
    "\n",
    "    # Train the model\n",
    "    train_metrics_log, test_metrics_log = train_cycle(model_head, optimizer, criterion, metrics, train_dataloader, val_dataloader, n_epochs=params['N_EPOCHS'], device=device)\n",
    "\n",
    "    # Store the results\n",
    "    results.append({\n",
    "        'lr': params['learning_rate'],\n",
    "        'batch_size': params['batchsize'],\n",
    "        'num_epochs': params['N_EPOCHS'],\n",
    "        'eval_loss': test_metrics_log[1][-1],         \n",
    "        'eval_acc': test_metrics_log[0][-1]\n",
    "        })\n",
    "\n",
    "\n",
    "#Save the results to a JSON file\n",
    "results_path = 'results/audio_hyperparameters_mixed.json'\n",
    "os.makedirs(os.path.dirname(results_path), exist_ok=True)\n",
    "\n",
    "with open(results_path, 'w') as f:\n",
    "    json.dump(results, f, indent=4)"
   ]
  },
  {
   "cell_type": "code",
   "execution_count": 55,
   "metadata": {},
   "outputs": [
    {
     "name": "stdout",
     "output_type": "stream",
     "text": [
      "Epoch 0 of 8\n"
     ]
    },
    {
     "name": "stderr",
     "output_type": "stream",
     "text": [
      "100%|██████████| 19/19 [00:02<00:00,  8.41it/s]\n"
     ]
    },
    {
     "name": "stdout",
     "output_type": "stream",
     "text": [
      "train Loss: 0.6366,  ACC: 0.6447, F1-weighted: 0.6106\n"
     ]
    },
    {
     "name": "stderr",
     "output_type": "stream",
     "text": [
      "100%|██████████| 5/5 [00:00<00:00,  7.47it/s]\n"
     ]
    },
    {
     "name": "stdout",
     "output_type": "stream",
     "text": [
      "eval Loss: 0.6246,  ACC: 0.7562, F1-weighted: 0.7503\n",
      "Epoch 1 of 8\n"
     ]
    },
    {
     "name": "stderr",
     "output_type": "stream",
     "text": [
      "100%|██████████| 19/19 [00:00<00:00, 32.68it/s]\n"
     ]
    },
    {
     "name": "stdout",
     "output_type": "stream",
     "text": [
      "train Loss: 0.5656,  ACC: 0.7034, F1-weighted: 0.6962\n"
     ]
    },
    {
     "name": "stderr",
     "output_type": "stream",
     "text": [
      "100%|██████████| 5/5 [00:00<00:00, 31.62it/s]\n"
     ]
    },
    {
     "name": "stdout",
     "output_type": "stream",
     "text": [
      "eval Loss: 0.5900,  ACC: 0.7312, F1-weighted: 0.7144\n",
      "Epoch 2 of 8\n"
     ]
    },
    {
     "name": "stderr",
     "output_type": "stream",
     "text": [
      "100%|██████████| 19/19 [00:00<00:00, 31.93it/s]\n"
     ]
    },
    {
     "name": "stdout",
     "output_type": "stream",
     "text": [
      "train Loss: 0.5345,  ACC: 0.7237, F1-weighted: 0.7148\n"
     ]
    },
    {
     "name": "stderr",
     "output_type": "stream",
     "text": [
      "100%|██████████| 5/5 [00:00<00:00, 13.88it/s]\n"
     ]
    },
    {
     "name": "stdout",
     "output_type": "stream",
     "text": [
      "eval Loss: 0.5842,  ACC: 0.7500, F1-weighted: 0.7383\n",
      "Epoch 3 of 8\n"
     ]
    },
    {
     "name": "stderr",
     "output_type": "stream",
     "text": [
      "100%|██████████| 19/19 [00:00<00:00, 30.73it/s]\n"
     ]
    },
    {
     "name": "stdout",
     "output_type": "stream",
     "text": [
      "train Loss: 0.5151,  ACC: 0.7379, F1-weighted: 0.7301\n"
     ]
    },
    {
     "name": "stderr",
     "output_type": "stream",
     "text": [
      "100%|██████████| 5/5 [00:00<00:00, 27.42it/s]\n"
     ]
    },
    {
     "name": "stdout",
     "output_type": "stream",
     "text": [
      "eval Loss: 0.5781,  ACC: 0.7562, F1-weighted: 0.7443\n",
      "Epoch 4 of 8\n"
     ]
    },
    {
     "name": "stderr",
     "output_type": "stream",
     "text": [
      "100%|██████████| 19/19 [00:00<00:00, 30.21it/s]\n"
     ]
    },
    {
     "name": "stdout",
     "output_type": "stream",
     "text": [
      "train Loss: 0.5035,  ACC: 0.7560, F1-weighted: 0.7489\n"
     ]
    },
    {
     "name": "stderr",
     "output_type": "stream",
     "text": [
      "100%|██████████| 5/5 [00:00<00:00, 29.81it/s]\n"
     ]
    },
    {
     "name": "stdout",
     "output_type": "stream",
     "text": [
      "eval Loss: 0.5782,  ACC: 0.7688, F1-weighted: 0.7608\n",
      "Epoch 5 of 8\n"
     ]
    },
    {
     "name": "stderr",
     "output_type": "stream",
     "text": [
      "100%|██████████| 19/19 [00:00<00:00, 30.14it/s]\n"
     ]
    },
    {
     "name": "stdout",
     "output_type": "stream",
     "text": [
      "train Loss: 0.4928,  ACC: 0.7626, F1-weighted: 0.7560\n"
     ]
    },
    {
     "name": "stderr",
     "output_type": "stream",
     "text": [
      "100%|██████████| 5/5 [00:00<00:00, 24.41it/s]\n"
     ]
    },
    {
     "name": "stdout",
     "output_type": "stream",
     "text": [
      "eval Loss: 0.5770,  ACC: 0.7688, F1-weighted: 0.7608\n",
      "Epoch 6 of 8\n"
     ]
    },
    {
     "name": "stderr",
     "output_type": "stream",
     "text": [
      "100%|██████████| 19/19 [00:00<00:00, 30.76it/s]\n"
     ]
    },
    {
     "name": "stdout",
     "output_type": "stream",
     "text": [
      "train Loss: 0.4842,  ACC: 0.7659, F1-weighted: 0.7590\n"
     ]
    },
    {
     "name": "stderr",
     "output_type": "stream",
     "text": [
      "100%|██████████| 5/5 [00:00<00:00,  5.74it/s]\n"
     ]
    },
    {
     "name": "stdout",
     "output_type": "stream",
     "text": [
      "eval Loss: 0.5768,  ACC: 0.7750, F1-weighted: 0.7667\n",
      "Epoch 7 of 8\n"
     ]
    },
    {
     "name": "stderr",
     "output_type": "stream",
     "text": [
      "100%|██████████| 19/19 [00:00<00:00, 20.22it/s]\n"
     ]
    },
    {
     "name": "stdout",
     "output_type": "stream",
     "text": [
      "train Loss: 0.4767,  ACC: 0.7774, F1-weighted: 0.7710\n"
     ]
    },
    {
     "name": "stderr",
     "output_type": "stream",
     "text": [
      "100%|██████████| 5/5 [00:00<00:00, 26.71it/s]\n"
     ]
    },
    {
     "name": "stdout",
     "output_type": "stream",
     "text": [
      "eval Loss: 0.5765,  ACC: 0.7812, F1-weighted: 0.7747\n"
     ]
    },
    {
     "data": {
      "image/png": "[encoded data removed]",
      "text/plain": [
       "<Figure size 1500x500 with 3 Axes>"
      ]
     },
     "metadata": {},
     "output_type": "display_data"
    }
   ],
   "source": [
    "#Final Chosen Model Mixed\n",
    "\n",
    "# Seed for reproducibility\n",
    "torch.manual_seed(42)\n",
    "\n",
    "#Final Chosen Model Mixed:\n",
    "#  {\n",
    "#         \"lr\": 1e-05,\n",
    "#         \"batch_size\": 64,\n",
    "#         \"num_epochs\": 30,\n",
    "#         \"eval_loss\": 0.7726955585119467,\n",
    "#         \"eval_acc\": 0.7760416666666666\n",
    "#     },\n",
    "\n",
    "# {\n",
    "#         \"lr\": 0.01,\n",
    "#         \"batch_size\": 32,\n",
    "#         \"num_epochs\": 20,\n",
    "#         \"eval_loss\": 0.7704861665267344,\n",
    "#         \"eval_acc\": 0.775\n",
    "#     },\n",
    "\n",
    "# Hyperparameters Chosen:\n",
    "learning_rate = 0.01\n",
    "batch_size = 32\n",
    "N_EPOCHS = 8\n",
    "\n",
    "\n",
    " # Create the DataLoaders\n",
    "train_dataloader = DataLoader(train_datasetmixed, batch_size=batch_size)\n",
    "val_dataloader = DataLoader(val_datasetmixed, batch_size=batch_size)\n",
    "\n",
    "# Set device\n",
    "device = torch.device(\"cuda\" if torch.cuda.is_available() else \"cpu\")\n",
    "\n",
    "#Define the loss function\n",
    "criterion = nn.CrossEntropyLoss()\n",
    "\n",
    "#metrics\n",
    "metrics = {'ACC': acc, 'F1-weighted': f1}\n",
    "\n",
    "#Definition of the Model HEAD\n",
    "#number of features of last layer Wav2Vec2\n",
    "num_ftrs = 768\n",
    "\n",
    "#Binary Classification -> Sarcasm or not\n",
    "num_classes = 2 \n",
    "\n",
    "model_head = Classifier(num_classes, num_ftrs)\n",
    "\n",
    "#Create the optimizer\n",
    "optimizer = torch.optim.AdamW(model_head.parameters(), lr=learning_rate)\n",
    "\n",
    "#Train the model\n",
    "train_metrics_log, test_metrics_log = train_cycle(model_head, optimizer, criterion, metrics, train_dataloader, val_dataloader, n_epochs=N_EPOCHS, device=device)\n",
    "\n",
    "# Save the model weights\n",
    "results_models_weights_dir = 'models_weights/'\n",
    "if not os.path.exists(results_models_weights_dir):\n",
    "    os.mkdir(results_models_weights_dir)\n",
    "torch.save(model_head.state_dict(), results_models_weights_dir + 'audio_model_embeddingsmixed.pth')\n",
    "\n"
   ]
  },
  {
   "cell_type": "code",
   "execution_count": 57,
   "metadata": {},
   "outputs": [
    {
     "name": "stderr",
     "output_type": "stream",
     "text": [
      "100%|██████████| 5/5 [00:00<00:00, 12.97it/s]"
     ]
    },
    {
     "name": "stdout",
     "output_type": "stream",
     "text": [
      "eval Loss: 0.5004,  ACC: 0.7937, F1-weighted: 0.7887\n",
      "Test loss: 0.5003714680671691\n",
      "Test metrics: {'ACC': 0.79375, 'F1-weighted': 0.7886726742414348}\n"
     ]
    },
    {
     "name": "stderr",
     "output_type": "stream",
     "text": [
      "\n"
     ]
    }
   ],
   "source": [
    "#Test Set Mixed for Chosen Model\n",
    "\n",
    "with open('data/audio/embeddingsmixed_sets/labels_mixed_test.json', 'r') as file:\n",
    "    labelsmixed_test = json.load(file)\n",
    "\n",
    "embeddings_test = 'data/audio/embeddingsmixed_sets/mixed_test_set/'\n",
    "\n",
    "test_datasetmixed = EmbeddingDataset(embeddings_test, labelsmixed_test)\n",
    "\n",
    "# Create the test DataLoader\n",
    "test_dataloader = DataLoader(test_datasetmixed, batch_size=batch_size)\n",
    "\n",
    "# Evaluate the model on the test set\n",
    "test_loss, test_metrics = evaluate(model_head, criterion, metrics, test_dataloader, device)\n",
    "\n",
    "# Print the test loss and metrics\n",
    "print('Test loss:', test_loss)\n",
    "print('Test metrics:', test_metrics)"
   ]
  },
  {
   "cell_type": "code",
   "execution_count": null,
   "metadata": {},
   "outputs": [],
   "source": []
  },
  {
   "cell_type": "markdown",
   "metadata": {},
   "source": [
    "Cross Validation:"
   ]
  },
  {
   "cell_type": "code",
   "execution_count": 71,
   "metadata": {},
   "outputs": [],
   "source": [
    "results_cross = {}"
   ]
  },
  {
   "cell_type": "markdown",
   "metadata": {},
   "source": [
    "Female Model:"
   ]
  },
  {
   "cell_type": "code",
   "execution_count": 75,
   "metadata": {},
   "outputs": [
    {
     "name": "stderr",
     "output_type": "stream",
     "text": [
      "  0%|          | 0/28 [00:00<?, ?it/s]"
     ]
    },
    {
     "name": "stderr",
     "output_type": "stream",
     "text": [
      "100%|██████████| 28/28 [00:01<00:00, 19.58it/s]"
     ]
    },
    {
     "name": "stdout",
     "output_type": "stream",
     "text": [
      "eval Loss: 0.7114,  ACC: 0.5938, F1-weighted: 0.5670\n"
     ]
    },
    {
     "name": "stderr",
     "output_type": "stream",
     "text": [
      "\n"
     ]
    }
   ],
   "source": [
    "#FEMALE MODEL\n",
    "#MALE ON FEMALE Model\n",
    "\n",
    "# Set seed for reproducibility\n",
    "torch.manual_seed(42)\n",
    "\n",
    "batch_size = 16\n",
    "\n",
    "# Load the state dictionary\n",
    "model_F = Classifier(num_classes, num_ftrs)\n",
    "model_F.load_state_dict(torch.load('models_weights/audio_model_embeddingsF.pth'))\n",
    "\n",
    "\n",
    "with open('data/audio/labels_M.json', 'r') as file:\n",
    "    labels_M = json.load(file)\n",
    "\n",
    "embeddings_test = 'data/audio/embeddingsM/'\n",
    "\n",
    "test_datasetM = EmbeddingDataset(embeddings_test,labels_M)\n",
    "\n",
    "# Create the test DataLoader\n",
    "test_dataloaderM = DataLoader(test_datasetM, batch_size=batch_size)\n",
    "\n",
    "# Evaluate the model\n",
    "test_loss, test_metrics = evaluate(model_F, criterion, metrics, test_dataloaderM, device)\n",
    "\n",
    "\n",
    "\n",
    "# Store the results\n",
    "results_cross['Male dataset on Female Model'] = {'Test loss': test_loss, 'Test metrics': test_metrics}"
   ]
  },
  {
   "cell_type": "code",
   "execution_count": 73,
   "metadata": {},
   "outputs": [
    {
     "name": "stderr",
     "output_type": "stream",
     "text": [
      "  0%|          | 0/54 [00:00<?, ?it/s]"
     ]
    },
    {
     "name": "stderr",
     "output_type": "stream",
     "text": [
      "100%|██████████| 54/54 [00:02<00:00, 22.81it/s]"
     ]
    },
    {
     "name": "stdout",
     "output_type": "stream",
     "text": [
      "eval Loss: 0.5018,  ACC: 0.7508, F1-weighted: 0.7312\n"
     ]
    },
    {
     "name": "stderr",
     "output_type": "stream",
     "text": [
      "\n"
     ]
    }
   ],
   "source": [
    "#FEMALE MODEL\n",
    "#Mixed ON FEMALE Model\n",
    "\n",
    "# Set seed for reproducibility\n",
    "torch.manual_seed(42)\n",
    "\n",
    "batch_size = 16\n",
    "\n",
    "# Load the state dictionary\n",
    "model_F = Classifier(num_classes, num_ftrs)\n",
    "model_F.load_state_dict(torch.load('models_weights/audio_model_embeddingsmixed.pth'))\n",
    "\n",
    "\n",
    "with open('data/audio/labels_mixed.json', 'r') as file:\n",
    "    labels_mixed = json.load(file)\n",
    "\n",
    "embeddings_test = 'data/audio/embeddingsmixed/'\n",
    "\n",
    "test_datasetmixed = EmbeddingDataset(embeddings_test,labels_mixed)\n",
    "\n",
    "# Create the test DataLoader\n",
    "test_dataloaderM = DataLoader(test_datasetmixed, batch_size=batch_size)\n",
    "\n",
    "# Evaluate the model\n",
    "test_loss, test_metrics = evaluate(model_F, criterion, metrics, test_dataloaderM, device)\n",
    "\n",
    "\n",
    "results_cross = {}\n",
    "# Store the results\n",
    "results_cross['Mixed dataset on Female model'] = {'Test loss': test_loss, 'Test metrics': test_metrics}"
   ]
  },
  {
   "cell_type": "code",
   "execution_count": 76,
   "metadata": {},
   "outputs": [
    {
     "data": {
      "text/plain": [
       "{'Mixed dataset on Female model': {'Test loss': 0.5018006695641412,\n",
       "  'Test metrics': {'ACC': 0.7507716049382716,\n",
       "   'F1-weighted': 0.7311950745868503}},\n",
       " 'Male dataset on Female Model': {'Test loss': 0.7113848254084587,\n",
       "  'Test metrics': {'ACC': 0.59375, 'F1-weighted': 0.5670007242867702}}}"
      ]
     },
     "execution_count": 76,
     "metadata": {},
     "output_type": "execute_result"
    }
   ],
   "source": [
    "results_cross"
   ]
  },
  {
   "cell_type": "markdown",
   "metadata": {},
   "source": [
    "Male Model Cross:"
   ]
  },
  {
   "cell_type": "code",
   "execution_count": 78,
   "metadata": {},
   "outputs": [
    {
     "name": "stderr",
     "output_type": "stream",
     "text": [
      "100%|██████████| 26/26 [00:00<00:00, 44.14it/s]"
     ]
    },
    {
     "name": "stdout",
     "output_type": "stream",
     "text": [
      "eval Loss: 0.6500,  ACC: 0.6522, F1-weighted: 0.5759\n"
     ]
    },
    {
     "name": "stderr",
     "output_type": "stream",
     "text": [
      "\n"
     ]
    }
   ],
   "source": [
    "#Male MODEL\n",
    "#Female ON Male Model\n",
    "\n",
    "# Set seed for reproducibility\n",
    "torch.manual_seed(42)\n",
    "\n",
    "batch_size = 8\n",
    "\n",
    "# Load the state dictionary\n",
    "model_M = Classifier(num_classes, num_ftrs)\n",
    "model_M.load_state_dict(torch.load('models_weights/audio_model_embeddingsM.pth'))\n",
    "\n",
    "\n",
    "with open('data/audio/labels_F.json', 'r') as file:\n",
    "    labels_F = json.load(file)\n",
    "\n",
    "embeddings_test = 'data/audio/embeddingsF/'\n",
    "\n",
    "test_datasetF = EmbeddingDataset(embeddings_test,labels_F)\n",
    "\n",
    "# Create the test DataLoader\n",
    "test_dataloaderM = DataLoader(test_datasetF, batch_size=batch_size)\n",
    "\n",
    "# Evaluate the model\n",
    "test_loss, test_metrics = evaluate(model_M, criterion, metrics, test_dataloaderM, device)\n",
    "\n",
    "\n",
    "\n",
    "# Store the results\n",
    "results_cross['Female dataset on Male Model'] = {'Test loss': test_loss, 'Test metrics': test_metrics}"
   ]
  },
  {
   "cell_type": "code",
   "execution_count": 82,
   "metadata": {},
   "outputs": [
    {
     "name": "stderr",
     "output_type": "stream",
     "text": [
      "  0%|          | 0/108 [00:00<?, ?it/s]"
     ]
    },
    {
     "name": "stderr",
     "output_type": "stream",
     "text": [
      "100%|██████████| 108/108 [00:02<00:00, 43.18it/s]"
     ]
    },
    {
     "name": "stdout",
     "output_type": "stream",
     "text": [
      "eval Loss: 0.6433,  ACC: 0.6782, F1-weighted: 0.6214\n"
     ]
    },
    {
     "name": "stderr",
     "output_type": "stream",
     "text": [
      "\n"
     ]
    }
   ],
   "source": [
    "#Male MODEL\n",
    "#Mixed on Male Model\n",
    "\n",
    "# Set seed for reproducibility\n",
    "torch.manual_seed(42)\n",
    "\n",
    "batch_size = 8\n",
    "\n",
    "# Load the state dictionary\n",
    "model_M = Classifier(num_classes, num_ftrs)\n",
    "model_M.load_state_dict(torch.load('models_weights/audio_model_embeddingsM.pth'))\n",
    "\n",
    "\n",
    "with open('data/audio/labels_mixed.json', 'r') as file:\n",
    "    labels_mixed = json.load(file)\n",
    "\n",
    "embeddings_test = 'data/audio/embeddingsmixed/'\n",
    "\n",
    "test_datasetmixed = EmbeddingDataset(embeddings_test, labels_mixed)\n",
    "\n",
    "# Create the test DataLoader\n",
    "test_dataloadermixed = DataLoader(test_datasetmixed, batch_size=batch_size)\n",
    "\n",
    "# Evaluate the model\n",
    "test_loss, test_metrics = evaluate(model_M, criterion, metrics, test_dataloadermixed, device)\n",
    "\n",
    "\n",
    "# Store the results\n",
    "results_cross['Mixed dataset on Male Model'] = {'Test loss': test_loss, 'Test metrics': test_metrics}"
   ]
  },
  {
   "cell_type": "code",
   "execution_count": 80,
   "metadata": {},
   "outputs": [
    {
     "data": {
      "text/plain": [
       "{'Mixed dataset on Female model': {'Test loss': 0.5018006695641412,\n",
       "  'Test metrics': {'ACC': 0.7507716049382716,\n",
       "   'F1-weighted': 0.7311950745868503}},\n",
       " 'Male dataset on Female Model': {'Test loss': 0.7113848254084587,\n",
       "  'Test metrics': {'ACC': 0.59375, 'F1-weighted': 0.5670007242867702}},\n",
       " 'Female dataset on Male Model': {'Test loss': 0.6500158539185157,\n",
       "  'Test metrics': {'ACC': 0.6522435897435896,\n",
       "   'F1-weighted': 0.5758783951091643}},\n",
       " 'Mixed dataset on Male Model': {'Test loss': 0.6433091169154203,\n",
       "  'Test metrics': {'ACC': 0.6782407407407407,\n",
       "   'F1-weighted': 0.6214435769991328}}}"
      ]
     },
     "execution_count": 80,
     "metadata": {},
     "output_type": "execute_result"
    }
   ],
   "source": [
    "results_cross"
   ]
  },
  {
   "cell_type": "markdown",
   "metadata": {},
   "source": [
    "Mixed Model:"
   ]
  },
  {
   "cell_type": "code",
   "execution_count": 81,
   "metadata": {},
   "outputs": [
    {
     "name": "stderr",
     "output_type": "stream",
     "text": [
      "100%|██████████| 7/7 [00:00<00:00, 15.25it/s]"
     ]
    },
    {
     "name": "stdout",
     "output_type": "stream",
     "text": [
      "eval Loss: 0.5128,  ACC: 0.7520, F1-weighted: 0.7490\n"
     ]
    },
    {
     "name": "stderr",
     "output_type": "stream",
     "text": [
      "\n"
     ]
    }
   ],
   "source": [
    "#Mixed MODEL\n",
    "#Female on Mixed Model\n",
    "\n",
    "# Set seed for reproducibility\n",
    "torch.manual_seed(42)\n",
    "\n",
    "batch_size = 32\n",
    "\n",
    "# Load the state dictionary\n",
    "model_mixed = Classifier(num_classes, num_ftrs)\n",
    "model_mixed.load_state_dict(torch.load('models_weights/audio_model_embeddingsmixed.pth'))\n",
    "\n",
    "\n",
    "with open('data/audio/labels_F.json', 'r') as file:\n",
    "    labels_F = json.load(file)\n",
    "\n",
    "embeddings_test = 'data/audio/embeddingsF/'\n",
    "\n",
    "test_datasetF = EmbeddingDataset(embeddings_test, labels_F)\n",
    "\n",
    "# Create the test DataLoader\n",
    "test_dataloaderF = DataLoader(test_datasetF, batch_size=batch_size)\n",
    "\n",
    "# Evaluate the model\n",
    "test_loss, test_metrics = evaluate(model_mixed, criterion, metrics, test_dataloaderF, device)\n",
    "\n",
    "\n",
    "# Store the results\n",
    "results_cross['Female dataset on Mixed Model'] = {'Test loss': test_loss, 'Test metrics': test_metrics}"
   ]
  },
  {
   "cell_type": "code",
   "execution_count": 83,
   "metadata": {},
   "outputs": [
    {
     "name": "stderr",
     "output_type": "stream",
     "text": [
      "100%|██████████| 14/14 [00:01<00:00, 11.03it/s]"
     ]
    },
    {
     "name": "stdout",
     "output_type": "stream",
     "text": [
      "eval Loss: 0.6036,  ACC: 0.6719, F1-weighted: 0.6523\n"
     ]
    },
    {
     "name": "stderr",
     "output_type": "stream",
     "text": [
      "\n"
     ]
    }
   ],
   "source": [
    "#Mixed MODEL\n",
    "#Male on Mixed Model\n",
    "\n",
    "# Set seed for reproducibility\n",
    "torch.manual_seed(42)\n",
    "\n",
    "batch_size = 32\n",
    "\n",
    "# Load the state dictionary\n",
    "model_mixed = Classifier(num_classes, num_ftrs)\n",
    "model_mixed.load_state_dict(torch.load('models_weights/audio_model_embeddingsmixed.pth'))\n",
    "\n",
    "\n",
    "with open('data/audio/labels_M.json', 'r') as file:\n",
    "    labels_M = json.load(file)\n",
    "\n",
    "embeddings_test = 'data/audio/embeddingsM/'\n",
    "\n",
    "test_datasetM = EmbeddingDataset(embeddings_test, labels_M)\n",
    "\n",
    "# Create the test DataLoader\n",
    "test_dataloaderM = DataLoader(test_datasetM, batch_size=batch_size)\n",
    "\n",
    "# Evaluate the model\n",
    "test_loss, test_metrics = evaluate(model_mixed, criterion, metrics, test_dataloaderM, device)\n",
    "\n",
    "\n",
    "# Store the results\n",
    "results_cross['Male dataset on Mixed Model'] = {'Test loss': test_loss, 'Test metrics': test_metrics}"
   ]
  },
  {
   "cell_type": "code",
   "execution_count": 85,
   "metadata": {},
   "outputs": [
    {
     "data": {
      "text/plain": [
       "{'Mixed dataset on Female model': {'Test loss': 0.5018006695641412,\n",
       "  'Test metrics': {'ACC': 0.7507716049382716,\n",
       "   'F1-weighted': 0.7311950745868503}},\n",
       " 'Male dataset on Female Model': {'Test loss': 0.7113848254084587,\n",
       "  'Test metrics': {'ACC': 0.59375, 'F1-weighted': 0.5670007242867702}},\n",
       " 'Female dataset on Male Model': {'Test loss': 0.6500158539185157,\n",
       "  'Test metrics': {'ACC': 0.6522435897435896,\n",
       "   'F1-weighted': 0.5758783951091643}},\n",
       " 'Mixed dataset on Male Model': {'Test loss': 0.6433091169154203,\n",
       "  'Test metrics': {'ACC': 0.6782407407407407,\n",
       "   'F1-weighted': 0.6214435769991328}},\n",
       " 'Male dataset on Mixed Model': {'Test loss': 0.6036220107759748,\n",
       "  'Test metrics': {'ACC': 0.671875, 'F1-weighted': 0.65230530534415}}}"
      ]
     },
     "execution_count": 85,
     "metadata": {},
     "output_type": "execute_result"
    }
   ],
   "source": [
    "results_cross"
   ]
  },
  {
   "cell_type": "code",
   "execution_count": null,
   "metadata": {},
   "outputs": [],
   "source": []
  },
  {
   "cell_type": "code",
   "execution_count": null,
   "metadata": {},
   "outputs": [],
   "source": []
  },
  {
   "cell_type": "code",
   "execution_count": null,
   "metadata": {},
   "outputs": [],
   "source": []
  },
  {
   "cell_type": "markdown",
   "metadata": {},
   "source": [
    "# Final Results for Histogram\n",
    "Acc(Set/Model)\n",
    "Validation Accuracy:\n",
    "\n",
    "## Female Dataset:\n",
    "Acc(F/F): 0.8304\n",
    "Acc(F/M): 0.6522\n",
    "Acc(F/mixed): 0.7520\n",
    "\n",
    "\n",
    "## Male Dataset:\n",
    "Acc(M/F): 0.5938\n",
    "Acc(M/M): 0.8056\n",
    "Acc(M/mixed):0.6719\n",
    "\n",
    "## Mixed Dataset:\n",
    "Acc(mixed/F): 0.7508\n",
    "Acc(mixed/M): 0.6782\n",
    "Acc(mixed/mixed): 0.79375"
   ]
  },
  {
   "cell_type": "code",
   "execution_count": 99,
   "metadata": {},
   "outputs": [
    {
     "data": {
      "image/png": "[encoded data removed]",
      "text/plain": [
       "<Figure size 640x480 with 1 Axes>"
      ]
     },
     "metadata": {},
     "output_type": "display_data"
    }
   ],
   "source": [
    "#Histogram for the Audio Model\n",
    "models = ['Female', 'Male', 'Mixed']\n",
    "accuracies_FemaleDataset = [0.8304, 0.6522, 0.7520]  # Accuracies on Female Dataset\n",
    "accuracies_MaleDataset = [0.5938, 0.8056, 0.6719]  # Accuracies on Male Dataset\n",
    "accuracies_MixedDataset = [0.7508, 0.6782, 0.79375]  # Accuracies on Mixed Dataset\n",
    "\n",
    "bar_width = 0.25\n",
    "\n",
    "r1 = range(len(models))\n",
    "r2 = [x + bar_width for x in r1]\n",
    "r3 = [x + bar_width for x in r2]\n",
    "\n",
    "plt.bar(r1, accuracies_FemaleDataset, width=bar_width, color='#B1E3FF', edgecolor='grey', label='Female Dataset')\n",
    "plt.bar(r2, accuracies_MaleDataset, width=bar_width, color='#50C0FF', edgecolor='grey', label='Male Dataset')\n",
    "plt.bar(r3, accuracies_MixedDataset, width=bar_width, color = '#028EDD', edgecolor='grey', label='Mixed Dataset')\n",
    "\n",
    "plt.xlabel('Model', fontweight='bold')\n",
    "plt.xticks([r + bar_width for r in range(len(models))], models)\n",
    "plt.ylabel('Accuracy', fontweight='bold') \n",
    "\n",
    "plt.legend(loc='upper right', bbox_to_anchor=(1, 1.3))\n",
    "\n",
    "plt.savefig('data/audio/histogram_embeddings.svg', format='svg', bbox_inches='tight')\n",
    "\n",
    "plt.show()"
   ]
  },
  {
   "cell_type": "markdown",
   "metadata": {},
   "source": [
    "# Final Results for Histogram Text\n",
    "Acc(Set/Model)\n",
    "Validation Accuracy:\n",
    "\n",
    "## Female Dataset:\n",
    "Acc(F/F): \n",
    "Acc(F/M): \n",
    "Acc(F/mixed):\n",
    "\n",
    "\n",
    "## Male Dataset:\n",
    "Acc(M/F):\n",
    "Acc(M/M): 0.7240\n",
    "Acc(M/mixed):\n",
    "\n",
    "## Mixed Dataset:\n",
    "Acc(mixed/F): \n",
    "Acc(mixed/M):\n",
    "Acc(mixed/mixed): 0.8507"
   ]
  },
  {
   "cell_type": "code",
   "execution_count": 101,
   "metadata": {},
   "outputs": [
    {
     "data": {
      "image/png": "[encoded data removed]",
      "text/plain": [
       "<Figure size 640x480 with 1 Axes>"
      ]
     },
     "metadata": {},
     "output_type": "display_data"
    }
   ],
   "source": [
    "#Histogram Creation for the Text Model\n",
    "models = ['Female', 'Male', 'Mixed']\n",
    "accuracies_FemaleDataset = [0.8304, 0.6522, 0.7520]  # Accuracies on Female Dataset\n",
    "accuracies_MaleDataset = [0.5938, 0.8056, 0.6719]  # Accuracies on Male Dataset\n",
    "accuracies_MixedDataset = [0.7508, 0.6782, 0.79375]  # Accuracies on Mixed Dataset\n",
    "\n",
    "bar_width = 0.25\n",
    "\n",
    "r1 = range(len(models))\n",
    "r2 = [x + bar_width for x in r1]\n",
    "r3 = [x + bar_width for x in r2]\n",
    "\n",
    "plt.bar(r1, accuracies_FemaleDataset, width=bar_width, color='#B3F6B9', edgecolor='grey', label='Female Dataset')\n",
    "plt.bar(r2, accuracies_MaleDataset, width=bar_width, color='#5EE169', edgecolor='grey', label='Male Dataset')\n",
    "plt.bar(r3, accuracies_MixedDataset, width=bar_width, color = '#23AD2E', edgecolor='grey', label='Mixed Dataset')\n",
    "\n",
    "plt.xlabel('Model', fontweight='bold')\n",
    "plt.xticks([r + bar_width for r in range(len(models))], models)\n",
    "plt.ylabel('Accuracy', fontweight='bold') \n",
    "\n",
    "plt.legend(loc='upper right', bbox_to_anchor=(1, 1.3))\n",
    "\n",
    "plt.savefig('data/audio/histogram_embeddings.svg', format='svg', bbox_inches='tight')\n",
    "\n",
    "plt.show()"
   ]
  },
  {
   "cell_type": "code",
   "execution_count": null,
   "metadata": {},
   "outputs": [],
   "source": []
  }
 ],
 "metadata": {
  "kernelspec": {
   "display_name": "DLPROJ",
   "language": "python",
   "name": "python3"
  },
  "language_info": {
   "codemirror_mode": {
    "name": "ipython",
    "version": 3
   },
   "file_extension": ".py",
   "mimetype": "text/x-python",
   "name": "python",
   "nbconvert_exporter": "python",
   "pygments_lexer": "ipython3",
   "version": "3.11.9"
  }
 },
 "nbformat": 4,
 "nbformat_minor": 2
}
